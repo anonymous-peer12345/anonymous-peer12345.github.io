{
 "cells": [
  {
   "cell_type": "markdown",
   "id": "11a258cd",
   "metadata": {},
   "source": [
    "# Statistics overview sunset/sunrise<a class=\"tocSkip\"></a>"
   ]
  },
  {
   "cell_type": "markdown",
   "id": "d649c7b4",
   "metadata": {},
   "source": [
    "_<a href= "mailto:▓▓▓▓▓▓▓▓.▓▓▓▓▓▓▓@▓▓▓▓▓▓▓▓.▓▓▓">▓▓▓▓▓▓▓ ▓▓▓▓▓▓▓</a>, ▓▓▓▓▓▓▓, ▓▓▓▓▓▓▓ ▓▓▓▓▓▓▓ ▓▓▓▓▓▓▓;  ▓▓▓▓▓▓▓ ▓▓▓▓▓▓▓, ▓▓▓▓▓▓▓ ▓▓▓▓▓▓▓ ▓▓▓▓▓▓▓, ▓▓▓▓▓▓▓_\n",
    "* Redacted for double blind peer review\n",
    "\n",
    "----------------"
   ]
  },
  {
   "cell_type": "code",
   "execution_count": 18,
   "id": "16e0c6be",
   "metadata": {
    "jupyter": {
     "source_hidden": true
    },
    "tags": [
     "active-ipynb",
     "hide_code"
    ]
   },
   "outputs": [
    {
     "data": {
      "text/markdown": [
       "Last updated: Jul-08-2021"
      ],
      "text/plain": [
       "<IPython.core.display.Markdown object>"
      ]
     },
     "execution_count": 18,
     "metadata": {},
     "output_type": "execute_result"
    }
   ],
   "source": [
    "from IPython.display import Markdown as md\n",
    "from datetime import date\n",
    "\n",
    "today = date.today()\n",
    "md(f\"Last updated: {today.strftime('%b-%d-%Y')}\")"
   ]
  },
  {
   "cell_type": "markdown",
   "id": "34acd75b",
   "metadata": {},
   "source": [
    "Several additional quantities/numbers are collected here and referenced in the article."
   ]
  },
  {
   "cell_type": "markdown",
   "id": "96d354c7",
   "metadata": {},
   "source": [
    "# Preparations\n",
    "## Load dependencies\n",
    "\n",
    "This time, we use the [python_hll]() package to calculate hll set cardinalities.  \n",
    "`python_hll` is significantly slower than the native Postgres HLL implementation.  \n",
    "But there are only a few temporal HLL sets to calculate (year and months aggregates)."
   ]
  },
  {
   "cell_type": "code",
   "execution_count": 1,
   "id": "37d8b8e3",
   "metadata": {},
   "outputs": [],
   "source": [
    "import sys\n",
    "import pandas as pd\n",
    "from pathlib import Path\n",
    "from python_hll.hll import HLL\n",
    "from python_hll.util import NumberUtil\n",
    "module_path = str(Path.cwd().parents[0] / \"py\")\n",
    "if module_path not in sys.path:\n",
    "    sys.path.append(module_path)\n",
    "from modules import tools"
   ]
  },
  {
   "cell_type": "markdown",
   "id": "5c042426",
   "metadata": {},
   "source": [
    "## Load HLL aggregate data\n",
    "\n",
    "Data is stored as aggregate HLL data (postcount) for each term.\n",
    "\n",
    "There is an additional CSV that contains the HLL set with all Flickr posts (2007-2018)."
   ]
  },
  {
   "cell_type": "code",
   "execution_count": 2,
   "id": "57a5a0b9",
   "metadata": {},
   "outputs": [],
   "source": [
    "root = Path.cwd().parents[1] / \"00_hll_data\"\n",
    "TERMS_INSTAGRAM = root / \"instagram-terms.csv\"\n",
    "TERMS_FLICKR = root / \"flickr-terms.csv\"\n",
    "ALL_FLICKR = root / \"flickr-all.csv\""
   ]
  },
  {
   "cell_type": "markdown",
   "id": "25b5baee",
   "metadata": {},
   "source": [
    "Some statistics for these files:"
   ]
  },
  {
   "cell_type": "code",
   "execution_count": 3,
   "id": "5ee234c2",
   "metadata": {},
   "outputs": [
    {
     "data": {
      "text/html": [
       "<style  type=\"text/css\" >\n",
       "</style><table id=\"T_b561f_\" ><thead>    <tr>        <th class=\"index_name level0\" >name</th>        <th class=\"col_heading level0 col0\" >TERMS_INSTAGRAM</th>        <th class=\"col_heading level0 col1\" >TERMS_FLICKR</th>        <th class=\"col_heading level0 col2\" >ALL_FLICKR</th>    </tr></thead><tbody>\n",
       "                <tr>\n",
       "                        <th id=\"T_b561f_level0_row0\" class=\"row_heading level0 row0\" >size</th>\n",
       "                        <td id=\"T_b561f_row0_col0\" class=\"data row0 col0\" >49.65 KB</td>\n",
       "                        <td id=\"T_b561f_row0_col1\" class=\"data row0 col1\" >46.87 KB</td>\n",
       "                        <td id=\"T_b561f_row0_col2\" class=\"data row0 col2\" >2.55 KB</td>\n",
       "            </tr>\n",
       "            <tr>\n",
       "                        <th id=\"T_b561f_level0_row1\" class=\"row_heading level0 row1\" >records</th>\n",
       "                        <td id=\"T_b561f_row1_col0\" class=\"data row1 col0\" >24</td>\n",
       "                        <td id=\"T_b561f_row1_col1\" class=\"data row1 col1\" >24</td>\n",
       "                        <td id=\"T_b561f_row1_col2\" class=\"data row1 col2\" >2</td>\n",
       "            </tr>\n",
       "    </tbody></table>"
      ],
      "text/plain": [
       "<pandas.io.formats.style.Styler at 0x7f13ec6167c0>"
      ]
     },
     "metadata": {},
     "output_type": "display_data"
    },
    {
     "name": "stdout",
     "output_type": "stream",
     "text": [
      "CPU times: user 618 ms, sys: 72.9 ms, total: 691 ms\n",
      "Wall time: 7.11 s\n"
     ]
    }
   ],
   "source": [
    "%%time\n",
    "data_files = {\n",
    "    \"TERMS_INSTAGRAM\":TERMS_INSTAGRAM,\n",
    "    \"TERMS_FLICKR\":TERMS_FLICKR,\n",
    "    \"ALL_FLICKR\":ALL_FLICKR,\n",
    "    }\n",
    "tools.display_file_stats(data_files)"
   ]
  },
  {
   "cell_type": "markdown",
   "id": "82240c9e",
   "metadata": {},
   "source": [
    "Preview CSVs:"
   ]
  },
  {
   "cell_type": "code",
   "execution_count": 4,
   "id": "5a9a3fe9-65e5-4a2e-9670-6351023da677",
   "metadata": {},
   "outputs": [
    {
     "data": {
      "text/html": [
       "<div>\n",
       "<style scoped>\n",
       "    .dataframe tbody tr th:only-of-type {\n",
       "        vertical-align: middle;\n",
       "    }\n",
       "\n",
       "    .dataframe tbody tr th {\n",
       "        vertical-align: top;\n",
       "    }\n",
       "\n",
       "    .dataframe thead th {\n",
       "        text-align: right;\n",
       "    }\n",
       "</style>\n",
       "<table border=\"1\" class=\"dataframe\">\n",
       "  <thead>\n",
       "    <tr style=\"text-align: right;\">\n",
       "      <th></th>\n",
       "      <th>name</th>\n",
       "      <th>post_hll</th>\n",
       "    </tr>\n",
       "  </thead>\n",
       "  <tbody>\n",
       "    <tr>\n",
       "      <th>0</th>\n",
       "      <td>Flickr all posts 2007-2017</td>\n",
       "      <td>\\x148b409c25094232946329c6349d2d19c610b4272942...</td>\n",
       "    </tr>\n",
       "  </tbody>\n",
       "</table>\n",
       "</div>"
      ],
      "text/plain": [
       "                         name  \\\n",
       "0  Flickr all posts 2007-2017   \n",
       "\n",
       "                                            post_hll  \n",
       "0  \\x148b409c25094232946329c6349d2d19c610b4272942...  "
      ]
     },
     "metadata": {},
     "output_type": "display_data"
    }
   ],
   "source": [
    "display(pd.read_csv(ALL_FLICKR))"
   ]
  },
  {
   "cell_type": "code",
   "execution_count": 5,
   "id": "fb167189",
   "metadata": {},
   "outputs": [],
   "source": [
    "df = pd.read_csv(TERMS_INSTAGRAM)"
   ]
  },
  {
   "cell_type": "code",
   "execution_count": 6,
   "id": "ad85ab0a",
   "metadata": {},
   "outputs": [
    {
     "data": {
      "text/html": [
       "<div>\n",
       "<style scoped>\n",
       "    .dataframe tbody tr th:only-of-type {\n",
       "        vertical-align: middle;\n",
       "    }\n",
       "\n",
       "    .dataframe tbody tr th {\n",
       "        vertical-align: top;\n",
       "    }\n",
       "\n",
       "    .dataframe thead th {\n",
       "        text-align: right;\n",
       "    }\n",
       "</style>\n",
       "<table border=\"1\" class=\"dataframe\">\n",
       "  <thead>\n",
       "    <tr style=\"text-align: right;\">\n",
       "      <th></th>\n",
       "      <th>term</th>\n",
       "      <th>topic</th>\n",
       "      <th>post_hll</th>\n",
       "    </tr>\n",
       "  </thead>\n",
       "  <tbody>\n",
       "    <tr>\n",
       "      <th>0</th>\n",
       "      <td>sunrise</td>\n",
       "      <td>sunrise</td>\n",
       "      <td>\\x148b405b16d6318a5c5ee7358c7bd6c6b60f5c18a6ad...</td>\n",
       "    </tr>\n",
       "    <tr>\n",
       "      <th>1</th>\n",
       "      <td>sunrises</td>\n",
       "      <td>sunrise</td>\n",
       "      <td>\\x148b40324e731d0839ce9294e631927498a7318a5398...</td>\n",
       "    </tr>\n",
       "    <tr>\n",
       "      <th>2</th>\n",
       "      <td>sonnenaufgang</td>\n",
       "      <td>sunrise</td>\n",
       "      <td>\\x148b4041ce9498c75bde6324c741ce7398e7398c94a0...</td>\n",
       "    </tr>\n",
       "    <tr>\n",
       "      <th>3</th>\n",
       "      <td>leverdusoleil</td>\n",
       "      <td>sunrise</td>\n",
       "      <td>\\x148b4010c05084c520823180831882418c4108c01198...</td>\n",
       "    </tr>\n",
       "    <tr>\n",
       "      <th>4</th>\n",
       "      <td>leverdesoleil</td>\n",
       "      <td>sunrise</td>\n",
       "      <td>\\x148b40294210988430c453148210423110c228c6318c...</td>\n",
       "    </tr>\n",
       "    <tr>\n",
       "      <th>5</th>\n",
       "      <td>leversoleil</td>\n",
       "      <td>sunrise</td>\n",
       "      <td>\\x138b40004300c100e102410282032103a203e1048104...</td>\n",
       "    </tr>\n",
       "    <tr>\n",
       "      <th>6</th>\n",
       "      <td>lever_du_soleil</td>\n",
       "      <td>sunrise</td>\n",
       "      <td>\\x138b400a010f620f8110e3118116c31fc22041226123...</td>\n",
       "    </tr>\n",
       "    <tr>\n",
       "      <th>7</th>\n",
       "      <td>lever_de_soleil</td>\n",
       "      <td>sunrise</td>\n",
       "      <td>\\x138b400102036103c205c107210be20ca210a1128318...</td>\n",
       "    </tr>\n",
       "    <tr>\n",
       "      <th>8</th>\n",
       "      <td>lever_soleil</td>\n",
       "      <td>sunrise</td>\n",
       "      <td>\\x138b4003e304a10ce30e850fa2112317c22cc239223c...</td>\n",
       "    </tr>\n",
       "    <tr>\n",
       "      <th>9</th>\n",
       "      <td>zonsopkomst</td>\n",
       "      <td>sunrise</td>\n",
       "      <td>\\x148b4008c020942408c831082310d45188621a062098...</td>\n",
       "    </tr>\n",
       "    <tr>\n",
       "      <th>10</th>\n",
       "      <td>zonsopgang</td>\n",
       "      <td>sunrise</td>\n",
       "      <td>\\x148b4008c621040220881104c2284410044508c60088...</td>\n",
       "    </tr>\n",
       "    <tr>\n",
       "      <th>11</th>\n",
       "      <td>lever soleil</td>\n",
       "      <td>sunrise</td>\n",
       "      <td>\\x148b40088620082110c202880308401180c210c81084...</td>\n",
       "    </tr>\n",
       "    <tr>\n",
       "      <th>12</th>\n",
       "      <td>sunset</td>\n",
       "      <td>sunset</td>\n",
       "      <td>\\x148b7f731ce7b9ae6cd6e7bd8e7b16e8b5cf6c18c6c9...</td>\n",
       "    </tr>\n",
       "    <tr>\n",
       "      <th>13</th>\n",
       "      <td>coucher_du_soleil</td>\n",
       "      <td>sunset</td>\n",
       "      <td>\\x148b7f00841300a21284300801008400808200880100...</td>\n",
       "    </tr>\n",
       "    <tr>\n",
       "      <th>14</th>\n",
       "      <td>sunsets</td>\n",
       "      <td>sunset</td>\n",
       "      <td>\\x148b7f4ad09421885b9095258a52d4b5294c5258a429...</td>\n",
       "    </tr>\n",
       "    <tr>\n",
       "      <th>15</th>\n",
       "      <td>sonnenuntergang</td>\n",
       "      <td>sunset</td>\n",
       "      <td>\\x148b7f435086310753d885bd49521074a14a525484a5...</td>\n",
       "    </tr>\n",
       "    <tr>\n",
       "      <th>16</th>\n",
       "      <td>couchersoleil</td>\n",
       "      <td>sunset</td>\n",
       "      <td>\\x148b7f00400184400842010420190000084008020004...</td>\n",
       "    </tr>\n",
       "    <tr>\n",
       "      <th>17</th>\n",
       "      <td>coucherdusoleil</td>\n",
       "      <td>sunset</td>\n",
       "      <td>\\x148b7f210a3314831886229cc320c8218c6730883294...</td>\n",
       "    </tr>\n",
       "    <tr>\n",
       "      <th>18</th>\n",
       "      <td>coucher_soleil</td>\n",
       "      <td>sunset</td>\n",
       "      <td>\\x128b7f8592bc43e608063786896ecadc008eab89ad82...</td>\n",
       "    </tr>\n",
       "    <tr>\n",
       "      <th>19</th>\n",
       "      <td>zonsondergang</td>\n",
       "      <td>sunset</td>\n",
       "      <td>\\x148b7f3188521082318651a525194e64106419463418...</td>\n",
       "    </tr>\n",
       "    <tr>\n",
       "      <th>20</th>\n",
       "      <td>coucher soleil</td>\n",
       "      <td>sunset</td>\n",
       "      <td>\\x148b7f0000000c001800208000000010088000000000...</td>\n",
       "    </tr>\n",
       "    <tr>\n",
       "      <th>21</th>\n",
       "      <td>coucher_de_soleil</td>\n",
       "      <td>sunset</td>\n",
       "      <td>\\x148b7f0a8621946208c64288873206220c813084530c...</td>\n",
       "    </tr>\n",
       "    <tr>\n",
       "      <th>22</th>\n",
       "      <td>coucherdesoleil</td>\n",
       "      <td>sunset</td>\n",
       "      <td>\\x148b7f518a4610c741949421284210a2992c4190931d...</td>\n",
       "    </tr>\n",
       "  </tbody>\n",
       "</table>\n",
       "</div>"
      ],
      "text/plain": [
       "                 term    topic  \\\n",
       "0             sunrise  sunrise   \n",
       "1            sunrises  sunrise   \n",
       "2       sonnenaufgang  sunrise   \n",
       "3       leverdusoleil  sunrise   \n",
       "4       leverdesoleil  sunrise   \n",
       "5         leversoleil  sunrise   \n",
       "6     lever_du_soleil  sunrise   \n",
       "7     lever_de_soleil  sunrise   \n",
       "8        lever_soleil  sunrise   \n",
       "9         zonsopkomst  sunrise   \n",
       "10         zonsopgang  sunrise   \n",
       "11       lever soleil  sunrise   \n",
       "12             sunset   sunset   \n",
       "13  coucher_du_soleil   sunset   \n",
       "14            sunsets   sunset   \n",
       "15    sonnenuntergang   sunset   \n",
       "16      couchersoleil   sunset   \n",
       "17    coucherdusoleil   sunset   \n",
       "18     coucher_soleil   sunset   \n",
       "19      zonsondergang   sunset   \n",
       "20     coucher soleil   sunset   \n",
       "21  coucher_de_soleil   sunset   \n",
       "22    coucherdesoleil   sunset   \n",
       "\n",
       "                                             post_hll  \n",
       "0   \\x148b405b16d6318a5c5ee7358c7bd6c6b60f5c18a6ad...  \n",
       "1   \\x148b40324e731d0839ce9294e631927498a7318a5398...  \n",
       "2   \\x148b4041ce9498c75bde6324c741ce7398e7398c94a0...  \n",
       "3   \\x148b4010c05084c520823180831882418c4108c01198...  \n",
       "4   \\x148b40294210988430c453148210423110c228c6318c...  \n",
       "5   \\x138b40004300c100e102410282032103a203e1048104...  \n",
       "6   \\x138b400a010f620f8110e3118116c31fc22041226123...  \n",
       "7   \\x138b400102036103c205c107210be20ca210a1128318...  \n",
       "8   \\x138b4003e304a10ce30e850fa2112317c22cc239223c...  \n",
       "9   \\x148b4008c020942408c831082310d45188621a062098...  \n",
       "10  \\x148b4008c621040220881104c2284410044508c60088...  \n",
       "11  \\x148b40088620082110c202880308401180c210c81084...  \n",
       "12  \\x148b7f731ce7b9ae6cd6e7bd8e7b16e8b5cf6c18c6c9...  \n",
       "13  \\x148b7f00841300a21284300801008400808200880100...  \n",
       "14  \\x148b7f4ad09421885b9095258a52d4b5294c5258a429...  \n",
       "15  \\x148b7f435086310753d885bd49521074a14a525484a5...  \n",
       "16  \\x148b7f00400184400842010420190000084008020004...  \n",
       "17  \\x148b7f210a3314831886229cc320c8218c6730883294...  \n",
       "18  \\x128b7f8592bc43e608063786896ecadc008eab89ad82...  \n",
       "19  \\x148b7f3188521082318651a525194e64106419463418...  \n",
       "20  \\x148b7f0000000c001800208000000010088000000000...  \n",
       "21  \\x148b7f0a8621946208c64288873206220c813084530c...  \n",
       "22  \\x148b7f518a4610c741949421284210a2992c4190931d...  "
      ]
     },
     "metadata": {},
     "output_type": "display_data"
    }
   ],
   "source": [
    "display(df)"
   ]
  },
  {
   "cell_type": "markdown",
   "id": "915115ab-589d-46b2-bb00-005c589c5a6c",
   "metadata": {},
   "source": [
    "# Calculate Statistics"
   ]
  },
  {
   "cell_type": "markdown",
   "id": "d5faaeee",
   "metadata": {},
   "source": [
    "## HLL Cardinality per term"
   ]
  },
  {
   "cell_type": "markdown",
   "id": "69ddacf1",
   "metadata": {},
   "source": [
    "**Prepare functions**\n",
    "\n",
    "These functions were first used in the [YFCC HLL Workshop](https://ad.vgiscience.org/mobile_cart_workshop2020/02_hll_intro.html)."
   ]
  },
  {
   "cell_type": "code",
   "execution_count": 7,
   "id": "0f8951ab",
   "metadata": {},
   "outputs": [],
   "source": [
    "def hll_from_byte(hll_set: str):\n",
    "    \"\"\"Return HLL set from binary representation\"\"\"\n",
    "    hex_string = hll_set[2:]\n",
    "    # hex_string = hll_set\n",
    "    return HLL.from_bytes(\n",
    "        NumberUtil.from_hex(\n",
    "            hex_string, 0, len(hex_string)))\n",
    "\n",
    "def cardinality_from_hll(hll_set):\n",
    "    \"\"\"Turn binary hll into HLL set and return cardinality\"\"\"\n",
    "    try:\n",
    "        hll = hll_from_byte(hll_set)\n",
    "    except:\n",
    "        print(hll_set)\n",
    "    return hll.cardinality()"
   ]
  },
  {
   "cell_type": "markdown",
   "id": "b4dc143e",
   "metadata": {},
   "source": [
    "Define additional functions for reading and formatting CSV as `pd.DataFrame`"
   ]
  },
  {
   "cell_type": "code",
   "execution_count": 8,
   "id": "eb41b95e",
   "metadata": {},
   "outputs": [],
   "source": [
    "def append_cardinality_df(\n",
    "        df: pd.DataFrame, hll_col: str = \"post_hll\", drop_hll_col: bool = False):\n",
    "    \"\"\"Calculate cardinality from HLL and append to extra column in df\"\"\"\n",
    "    df['postcount_est'] = df.apply(\n",
    "        lambda x: cardinality_from_hll(\n",
    "           x[hll_col]),\n",
    "        axis=1)\n",
    "    if drop_hll_col:\n",
    "        df.drop(columns=[\"post_hll\"], inplace=True)\n",
    "    return\n",
    "\n",
    "def read_hll_csv(csv: Path, key_col: str) -> pd.DataFrame:\n",
    "    \"\"\"Read CSV with parsing datetime index (months)\n",
    "    \n",
    "        First CSV column: Year\n",
    "        Second CSV column: Month\n",
    "    \"\"\"\n",
    "    df = pd.read_csv(\n",
    "        csv, index_col=key_col)\n",
    "    append_cardinality_df(df)\n",
    "    return df"
   ]
  },
  {
   "cell_type": "code",
   "execution_count": 9,
   "id": "f46641af-cbd7-40ad-9440-a70aa86fd013",
   "metadata": {},
   "outputs": [
    {
     "name": "stdout",
     "output_type": "stream",
     "text": [
      "CPU times: user 1.18 s, sys: 0 ns, total: 1.18 s\n",
      "Wall time: 1.19 s\n"
     ]
    }
   ],
   "source": [
    "%%time\n",
    "import warnings; warnings.simplefilter('ignore')\n",
    "df = read_hll_csv(TERMS_INSTAGRAM, key_col=\"term\")"
   ]
  },
  {
   "cell_type": "markdown",
   "id": "74a406c4",
   "metadata": {},
   "source": [
    "<details><summary><strong>RuntimeWarning?</strong> </summary>\n",
    "    <div style=\"width:500px\"><ul>\n",
    "        <li><a href=\"https://github.com/AdRoll/python-hll\">python-hll library</a> is in a very early stage of development</li>  \n",
    "        <li>it is not fully compatible with the <a href=\"https://github.com/citusdata/postgresql-hll\">citus hll implementation</a> in postgres</li> \n",
    "        <li>The shown <a href=\"https://tech.nextroll.com/blog/dev/2019/10/01/hll-in-python.html\">RuntimeWarning (Overflow)</a> is one of the issues that need to be resolved in the future</li>\n",
    "        <li>If you run this notebook locally, it is recommended to use <a href=\"https://gitlab.vgiscience.de/lbsn/databases/pg-hll-empty\">pg-hll-empty</a> for\n",
    "        any hll calculations, as is shown (e.g.) in the original <a href=\"https://gitlab.vgiscience.de/ad/yfcc_gridagg\">YFCC100M notebooks</a>.</li>\n",
    "        <li>There is no significant negative impact on accuracy for this application case.</li>\n",
    "        </ul>\n",
    "</div>\n",
    "</details>"
   ]
  },
  {
   "cell_type": "code",
   "execution_count": 10,
   "id": "5ef8d374-0e12-41f0-a2ef-23d87cff53a9",
   "metadata": {},
   "outputs": [
    {
     "data": {
      "text/html": [
       "<div>\n",
       "<style scoped>\n",
       "    .dataframe tbody tr th:only-of-type {\n",
       "        vertical-align: middle;\n",
       "    }\n",
       "\n",
       "    .dataframe tbody tr th {\n",
       "        vertical-align: top;\n",
       "    }\n",
       "\n",
       "    .dataframe thead th {\n",
       "        text-align: right;\n",
       "    }\n",
       "</style>\n",
       "<table border=\"1\" class=\"dataframe\">\n",
       "  <thead>\n",
       "    <tr style=\"text-align: right;\">\n",
       "      <th></th>\n",
       "      <th>topic</th>\n",
       "      <th>post_hll</th>\n",
       "      <th>postcount_est</th>\n",
       "    </tr>\n",
       "    <tr>\n",
       "      <th>term</th>\n",
       "      <th></th>\n",
       "      <th></th>\n",
       "      <th></th>\n",
       "    </tr>\n",
       "  </thead>\n",
       "  <tbody>\n",
       "    <tr>\n",
       "      <th>sunset</th>\n",
       "      <td>sunset</td>\n",
       "      <td>\\x148b7f731ce7b9ae6cd6e7bd8e7b16e8b5cf6c18c6c9...</td>\n",
       "      <td>16992174</td>\n",
       "    </tr>\n",
       "    <tr>\n",
       "      <th>sunsets</th>\n",
       "      <td>sunset</td>\n",
       "      <td>\\x148b7f4ad09421885b9095258a52d4b5294c5258a429...</td>\n",
       "      <td>1443750</td>\n",
       "    </tr>\n",
       "    <tr>\n",
       "      <th>sonnenuntergang</th>\n",
       "      <td>sunset</td>\n",
       "      <td>\\x148b7f435086310753d885bd49521074a14a525484a5...</td>\n",
       "      <td>351389</td>\n",
       "    </tr>\n",
       "    <tr>\n",
       "      <th>coucherdesoleil</th>\n",
       "      <td>sunset</td>\n",
       "      <td>\\x148b7f518a4610c741949421284210a2992c4190931d...</td>\n",
       "      <td>87690</td>\n",
       "    </tr>\n",
       "    <tr>\n",
       "      <th>zonsondergang</th>\n",
       "      <td>sunset</td>\n",
       "      <td>\\x148b7f3188521082318651a525194e64106419463418...</td>\n",
       "      <td>27318</td>\n",
       "    </tr>\n",
       "    <tr>\n",
       "      <th>coucherdusoleil</th>\n",
       "      <td>sunset</td>\n",
       "      <td>\\x148b7f210a3314831886229cc320c8218c6730883294...</td>\n",
       "      <td>12977</td>\n",
       "    </tr>\n",
       "    <tr>\n",
       "      <th>coucher_de_soleil</th>\n",
       "      <td>sunset</td>\n",
       "      <td>\\x148b7f0a8621946208c64288873206220c813084530c...</td>\n",
       "      <td>12621</td>\n",
       "    </tr>\n",
       "    <tr>\n",
       "      <th>coucher_du_soleil</th>\n",
       "      <td>sunset</td>\n",
       "      <td>\\x148b7f00841300a21284300801008400808200880100...</td>\n",
       "      <td>2556</td>\n",
       "    </tr>\n",
       "    <tr>\n",
       "      <th>couchersoleil</th>\n",
       "      <td>sunset</td>\n",
       "      <td>\\x148b7f00400184400842010420190000084008020004...</td>\n",
       "      <td>2556</td>\n",
       "    </tr>\n",
       "    <tr>\n",
       "      <th>coucher soleil</th>\n",
       "      <td>sunset</td>\n",
       "      <td>\\x148b7f0000000c001800208000000010088000000000...</td>\n",
       "      <td>802</td>\n",
       "    </tr>\n",
       "    <tr>\n",
       "      <th>coucher_soleil</th>\n",
       "      <td>sunset</td>\n",
       "      <td>\\x128b7f8592bc43e608063786896ecadc008eab89ad82...</td>\n",
       "      <td>90</td>\n",
       "    </tr>\n",
       "  </tbody>\n",
       "</table>\n",
       "</div>"
      ],
      "text/plain": [
       "                    topic                                           post_hll  \\\n",
       "term                                                                           \n",
       "sunset             sunset  \\x148b7f731ce7b9ae6cd6e7bd8e7b16e8b5cf6c18c6c9...   \n",
       "sunsets            sunset  \\x148b7f4ad09421885b9095258a52d4b5294c5258a429...   \n",
       "sonnenuntergang    sunset  \\x148b7f435086310753d885bd49521074a14a525484a5...   \n",
       "coucherdesoleil    sunset  \\x148b7f518a4610c741949421284210a2992c4190931d...   \n",
       "zonsondergang      sunset  \\x148b7f3188521082318651a525194e64106419463418...   \n",
       "coucherdusoleil    sunset  \\x148b7f210a3314831886229cc320c8218c6730883294...   \n",
       "coucher_de_soleil  sunset  \\x148b7f0a8621946208c64288873206220c813084530c...   \n",
       "coucher_du_soleil  sunset  \\x148b7f00841300a21284300801008400808200880100...   \n",
       "couchersoleil      sunset  \\x148b7f00400184400842010420190000084008020004...   \n",
       "coucher soleil     sunset  \\x148b7f0000000c001800208000000010088000000000...   \n",
       "coucher_soleil     sunset  \\x128b7f8592bc43e608063786896ecadc008eab89ad82...   \n",
       "\n",
       "                   postcount_est  \n",
       "term                              \n",
       "sunset                  16992174  \n",
       "sunsets                  1443750  \n",
       "sonnenuntergang           351389  \n",
       "coucherdesoleil            87690  \n",
       "zonsondergang              27318  \n",
       "coucherdusoleil            12977  \n",
       "coucher_de_soleil          12621  \n",
       "coucher_du_soleil           2556  \n",
       "couchersoleil               2556  \n",
       "coucher soleil               802  \n",
       "coucher_soleil                90  "
      ]
     },
     "metadata": {},
     "output_type": "display_data"
    },
    {
     "data": {
      "text/html": [
       "<div>\n",
       "<style scoped>\n",
       "    .dataframe tbody tr th:only-of-type {\n",
       "        vertical-align: middle;\n",
       "    }\n",
       "\n",
       "    .dataframe tbody tr th {\n",
       "        vertical-align: top;\n",
       "    }\n",
       "\n",
       "    .dataframe thead th {\n",
       "        text-align: right;\n",
       "    }\n",
       "</style>\n",
       "<table border=\"1\" class=\"dataframe\">\n",
       "  <thead>\n",
       "    <tr style=\"text-align: right;\">\n",
       "      <th></th>\n",
       "      <th>topic</th>\n",
       "      <th>post_hll</th>\n",
       "      <th>postcount_est</th>\n",
       "    </tr>\n",
       "    <tr>\n",
       "      <th>term</th>\n",
       "      <th></th>\n",
       "      <th></th>\n",
       "      <th></th>\n",
       "    </tr>\n",
       "  </thead>\n",
       "  <tbody>\n",
       "    <tr>\n",
       "      <th>sunrise</th>\n",
       "      <td>sunrise</td>\n",
       "      <td>\\x148b405b16d6318a5c5ee7358c7bd6c6b60f5c18a6ad...</td>\n",
       "      <td>4662612</td>\n",
       "    </tr>\n",
       "    <tr>\n",
       "      <th>sunrises</th>\n",
       "      <td>sunrise</td>\n",
       "      <td>\\x148b40324e731d0839ce9294e631927498a7318a5398...</td>\n",
       "      <td>126115</td>\n",
       "    </tr>\n",
       "    <tr>\n",
       "      <th>sonnenaufgang</th>\n",
       "      <td>sunrise</td>\n",
       "      <td>\\x148b4041ce9498c75bde6324c741ce7398e7398c94a0...</td>\n",
       "      <td>103460</td>\n",
       "    </tr>\n",
       "    <tr>\n",
       "      <th>leverdesoleil</th>\n",
       "      <td>sunrise</td>\n",
       "      <td>\\x148b40294210988430c453148210423110c228c6318c...</td>\n",
       "      <td>11495</td>\n",
       "    </tr>\n",
       "    <tr>\n",
       "      <th>zonsopkomst</th>\n",
       "      <td>sunrise</td>\n",
       "      <td>\\x148b4008c020942408c831082310d45188621a062098...</td>\n",
       "      <td>6770</td>\n",
       "    </tr>\n",
       "    <tr>\n",
       "      <th>leverdusoleil</th>\n",
       "      <td>sunrise</td>\n",
       "      <td>\\x148b4010c05084c520823180831882418c4108c01198...</td>\n",
       "      <td>6081</td>\n",
       "    </tr>\n",
       "    <tr>\n",
       "      <th>zonsopgang</th>\n",
       "      <td>sunrise</td>\n",
       "      <td>\\x148b4008c621040220881104c2284410044508c60088...</td>\n",
       "      <td>3423</td>\n",
       "    </tr>\n",
       "    <tr>\n",
       "      <th>lever soleil</th>\n",
       "      <td>sunrise</td>\n",
       "      <td>\\x148b40088620082110c202880308401180c210c81084...</td>\n",
       "      <td>3387</td>\n",
       "    </tr>\n",
       "    <tr>\n",
       "      <th>leversoleil</th>\n",
       "      <td>sunrise</td>\n",
       "      <td>\\x138b40004300c100e102410282032103a203e1048104...</td>\n",
       "      <td>525</td>\n",
       "    </tr>\n",
       "    <tr>\n",
       "      <th>lever_du_soleil</th>\n",
       "      <td>sunrise</td>\n",
       "      <td>\\x138b400a010f620f8110e3118116c31fc22041226123...</td>\n",
       "      <td>73</td>\n",
       "    </tr>\n",
       "    <tr>\n",
       "      <th>lever_de_soleil</th>\n",
       "      <td>sunrise</td>\n",
       "      <td>\\x138b400102036103c205c107210be20ca210a1128318...</td>\n",
       "      <td>68</td>\n",
       "    </tr>\n",
       "    <tr>\n",
       "      <th>lever_soleil</th>\n",
       "      <td>sunrise</td>\n",
       "      <td>\\x138b4003e304a10ce30e850fa2112317c22cc239223c...</td>\n",
       "      <td>53</td>\n",
       "    </tr>\n",
       "  </tbody>\n",
       "</table>\n",
       "</div>"
      ],
      "text/plain": [
       "                   topic                                           post_hll  \\\n",
       "term                                                                          \n",
       "sunrise          sunrise  \\x148b405b16d6318a5c5ee7358c7bd6c6b60f5c18a6ad...   \n",
       "sunrises         sunrise  \\x148b40324e731d0839ce9294e631927498a7318a5398...   \n",
       "sonnenaufgang    sunrise  \\x148b4041ce9498c75bde6324c741ce7398e7398c94a0...   \n",
       "leverdesoleil    sunrise  \\x148b40294210988430c453148210423110c228c6318c...   \n",
       "zonsopkomst      sunrise  \\x148b4008c020942408c831082310d45188621a062098...   \n",
       "leverdusoleil    sunrise  \\x148b4010c05084c520823180831882418c4108c01198...   \n",
       "zonsopgang       sunrise  \\x148b4008c621040220881104c2284410044508c60088...   \n",
       "lever soleil     sunrise  \\x148b40088620082110c202880308401180c210c81084...   \n",
       "leversoleil      sunrise  \\x138b40004300c100e102410282032103a203e1048104...   \n",
       "lever_du_soleil  sunrise  \\x138b400a010f620f8110e3118116c31fc22041226123...   \n",
       "lever_de_soleil  sunrise  \\x138b400102036103c205c107210be20ca210a1128318...   \n",
       "lever_soleil     sunrise  \\x138b4003e304a10ce30e850fa2112317c22cc239223c...   \n",
       "\n",
       "                 postcount_est  \n",
       "term                            \n",
       "sunrise                4662612  \n",
       "sunrises                126115  \n",
       "sonnenaufgang           103460  \n",
       "leverdesoleil            11495  \n",
       "zonsopkomst               6770  \n",
       "leverdusoleil             6081  \n",
       "zonsopgang                3423  \n",
       "lever soleil              3387  \n",
       "leversoleil                525  \n",
       "lever_du_soleil             73  \n",
       "lever_de_soleil             68  \n",
       "lever_soleil                53  "
      ]
     },
     "metadata": {},
     "output_type": "display_data"
    }
   ],
   "source": [
    "display(df[df[\"topic\"]==\"sunset\"].sort_values('postcount_est', ascending=False))\n",
    "display(df[df[\"topic\"]==\"sunrise\"].sort_values('postcount_est', ascending=False))"
   ]
  },
  {
   "cell_type": "code",
   "execution_count": 11,
   "id": "9f83396f-cfcb-4af1-b89b-f84016908b7b",
   "metadata": {},
   "outputs": [],
   "source": [
    "df_instagram = df"
   ]
  },
  {
   "cell_type": "code",
   "execution_count": 12,
   "id": "01bcfd59-4a32-4e21-9929-5868bafd07f6",
   "metadata": {},
   "outputs": [
    {
     "name": "stdout",
     "output_type": "stream",
     "text": [
      "CPU times: user 1.13 s, sys: 1.66 ms, total: 1.14 s\n",
      "Wall time: 1.14 s\n"
     ]
    }
   ],
   "source": [
    "%%time\n",
    "import warnings; warnings.simplefilter('ignore')\n",
    "df = read_hll_csv(TERMS_FLICKR, key_col=\"term\")"
   ]
  },
  {
   "cell_type": "code",
   "execution_count": 13,
   "id": "55fc7ae7-bf45-4919-8890-f22d62105648",
   "metadata": {},
   "outputs": [
    {
     "data": {
      "text/html": [
       "<div>\n",
       "<style scoped>\n",
       "    .dataframe tbody tr th:only-of-type {\n",
       "        vertical-align: middle;\n",
       "    }\n",
       "\n",
       "    .dataframe tbody tr th {\n",
       "        vertical-align: top;\n",
       "    }\n",
       "\n",
       "    .dataframe thead th {\n",
       "        text-align: right;\n",
       "    }\n",
       "</style>\n",
       "<table border=\"1\" class=\"dataframe\">\n",
       "  <thead>\n",
       "    <tr style=\"text-align: right;\">\n",
       "      <th></th>\n",
       "      <th>topic</th>\n",
       "      <th>post_hll</th>\n",
       "      <th>postcount_est</th>\n",
       "    </tr>\n",
       "    <tr>\n",
       "      <th>term</th>\n",
       "      <th></th>\n",
       "      <th></th>\n",
       "      <th></th>\n",
       "    </tr>\n",
       "  </thead>\n",
       "  <tbody>\n",
       "    <tr>\n",
       "      <th>sunset</th>\n",
       "      <td>sunset</td>\n",
       "      <td>\\x148b7f5a9ac5354a5b18c7318b5498e83dcf63a2b639...</td>\n",
       "      <td>2431495</td>\n",
       "    </tr>\n",
       "    <tr>\n",
       "      <th>sonnenuntergang</th>\n",
       "      <td>sunset</td>\n",
       "      <td>\\x148b7f398a7398cc31ce7314c631d2e39d063a505395...</td>\n",
       "      <td>112093</td>\n",
       "    </tr>\n",
       "    <tr>\n",
       "      <th>sunsets</th>\n",
       "      <td>sunset</td>\n",
       "      <td>\\x148b7f418cc2a4c4414c5614e632183418e6318e4299...</td>\n",
       "      <td>70104</td>\n",
       "    </tr>\n",
       "    <tr>\n",
       "      <th>coucherdesoleil</th>\n",
       "      <td>sunset</td>\n",
       "      <td>\\x148b7f294853a065214e33946630cc43908629044194...</td>\n",
       "      <td>30755</td>\n",
       "    </tr>\n",
       "    <tr>\n",
       "      <th>zonsondergang</th>\n",
       "      <td>sunset</td>\n",
       "      <td>\\x148b7f394a33988a210c719866210e43986618ca6314...</td>\n",
       "      <td>25306</td>\n",
       "    </tr>\n",
       "    <tr>\n",
       "      <th>coucher soleil</th>\n",
       "      <td>sunset</td>\n",
       "      <td>\\x148b7f214433986828c8722466194832210320c44218...</td>\n",
       "      <td>19604</td>\n",
       "    </tr>\n",
       "    <tr>\n",
       "      <th>coucherdusoleil</th>\n",
       "      <td>sunset</td>\n",
       "      <td>\\x148b7f38867190241082220c4330443208a228c20114...</td>\n",
       "      <td>7035</td>\n",
       "    </tr>\n",
       "    <tr>\n",
       "      <th>coucher_de_soleil</th>\n",
       "      <td>sunset</td>\n",
       "      <td>\\x148b7f18002084400080008402080642100200002100...</td>\n",
       "      <td>2144</td>\n",
       "    </tr>\n",
       "    <tr>\n",
       "      <th>couchersoleil</th>\n",
       "      <td>sunset</td>\n",
       "      <td>\\x148b7f10400000010080000020080020000100020000...</td>\n",
       "      <td>1111</td>\n",
       "    </tr>\n",
       "    <tr>\n",
       "      <th>coucher_du_soleil</th>\n",
       "      <td>sunset</td>\n",
       "      <td>\\x148b7f00001180000000200c00084000000009400000...</td>\n",
       "      <td>1078</td>\n",
       "    </tr>\n",
       "    <tr>\n",
       "      <th>coucher_soleil</th>\n",
       "      <td>sunset</td>\n",
       "      <td>\\x128b7f81333b36e434391489d6ff166ddc75638cbb9f...</td>\n",
       "      <td>31</td>\n",
       "    </tr>\n",
       "  </tbody>\n",
       "</table>\n",
       "</div>"
      ],
      "text/plain": [
       "                    topic                                           post_hll  \\\n",
       "term                                                                           \n",
       "sunset             sunset  \\x148b7f5a9ac5354a5b18c7318b5498e83dcf63a2b639...   \n",
       "sonnenuntergang    sunset  \\x148b7f398a7398cc31ce7314c631d2e39d063a505395...   \n",
       "sunsets            sunset  \\x148b7f418cc2a4c4414c5614e632183418e6318e4299...   \n",
       "coucherdesoleil    sunset  \\x148b7f294853a065214e33946630cc43908629044194...   \n",
       "zonsondergang      sunset  \\x148b7f394a33988a210c719866210e43986618ca6314...   \n",
       "coucher soleil     sunset  \\x148b7f214433986828c8722466194832210320c44218...   \n",
       "coucherdusoleil    sunset  \\x148b7f38867190241082220c4330443208a228c20114...   \n",
       "coucher_de_soleil  sunset  \\x148b7f18002084400080008402080642100200002100...   \n",
       "couchersoleil      sunset  \\x148b7f10400000010080000020080020000100020000...   \n",
       "coucher_du_soleil  sunset  \\x148b7f00001180000000200c00084000000009400000...   \n",
       "coucher_soleil     sunset  \\x128b7f81333b36e434391489d6ff166ddc75638cbb9f...   \n",
       "\n",
       "                   postcount_est  \n",
       "term                              \n",
       "sunset                   2431495  \n",
       "sonnenuntergang           112093  \n",
       "sunsets                    70104  \n",
       "coucherdesoleil            30755  \n",
       "zonsondergang              25306  \n",
       "coucher soleil             19604  \n",
       "coucherdusoleil             7035  \n",
       "coucher_de_soleil           2144  \n",
       "couchersoleil               1111  \n",
       "coucher_du_soleil           1078  \n",
       "coucher_soleil                31  "
      ]
     },
     "metadata": {},
     "output_type": "display_data"
    },
    {
     "data": {
      "text/html": [
       "<div>\n",
       "<style scoped>\n",
       "    .dataframe tbody tr th:only-of-type {\n",
       "        vertical-align: middle;\n",
       "    }\n",
       "\n",
       "    .dataframe tbody tr th {\n",
       "        vertical-align: top;\n",
       "    }\n",
       "\n",
       "    .dataframe thead th {\n",
       "        text-align: right;\n",
       "    }\n",
       "</style>\n",
       "<table border=\"1\" class=\"dataframe\">\n",
       "  <thead>\n",
       "    <tr style=\"text-align: right;\">\n",
       "      <th></th>\n",
       "      <th>topic</th>\n",
       "      <th>post_hll</th>\n",
       "      <th>postcount_est</th>\n",
       "    </tr>\n",
       "    <tr>\n",
       "      <th>term</th>\n",
       "      <th></th>\n",
       "      <th></th>\n",
       "      <th></th>\n",
       "    </tr>\n",
       "  </thead>\n",
       "  <tbody>\n",
       "    <tr>\n",
       "      <th>sunrise</th>\n",
       "      <td>sunrise</td>\n",
       "      <td>\\x148b7f4a9884a94762128521696a52a5252c629696a8...</td>\n",
       "      <td>851468</td>\n",
       "    </tr>\n",
       "    <tr>\n",
       "      <th>sonnenaufgang</th>\n",
       "      <td>sunrise</td>\n",
       "      <td>\\x148b7f3192639ce44a0a54908329924294c420d25290...</td>\n",
       "      <td>41514</td>\n",
       "    </tr>\n",
       "    <tr>\n",
       "      <th>leverdesoleil</th>\n",
       "      <td>sunrise</td>\n",
       "      <td>\\x148b7f0a0430984518cc409d2210824314a040867188...</td>\n",
       "      <td>10283</td>\n",
       "    </tr>\n",
       "    <tr>\n",
       "      <th>sunrises</th>\n",
       "      <td>sunrise</td>\n",
       "      <td>\\x148b7f09046108231908209442288231106109062298...</td>\n",
       "      <td>9627</td>\n",
       "    </tr>\n",
       "    <tr>\n",
       "      <th>lever soleil</th>\n",
       "      <td>sunrise</td>\n",
       "      <td>\\x148b7f1a0420a0e41800421464088431182120cc3200...</td>\n",
       "      <td>6750</td>\n",
       "    </tr>\n",
       "    <tr>\n",
       "      <th>zonsopkomst</th>\n",
       "      <td>sunrise</td>\n",
       "      <td>\\x148b7f18485098410882209844204421086109404210...</td>\n",
       "      <td>5163</td>\n",
       "    </tr>\n",
       "    <tr>\n",
       "      <th>zonsopgang</th>\n",
       "      <td>sunrise</td>\n",
       "      <td>\\x148b7f1940200c420882100481080421040208465200...</td>\n",
       "      <td>3527</td>\n",
       "    </tr>\n",
       "    <tr>\n",
       "      <th>leverdusoleil</th>\n",
       "      <td>sunrise</td>\n",
       "      <td>\\x148b7f3886040401284202880310c23000a028020000...</td>\n",
       "      <td>2050</td>\n",
       "    </tr>\n",
       "    <tr>\n",
       "      <th>leversoleil</th>\n",
       "      <td>sunrise</td>\n",
       "      <td>\\x138b7f03c1070107610781092109e10a270a610ac30c...</td>\n",
       "      <td>187</td>\n",
       "    </tr>\n",
       "    <tr>\n",
       "      <th>lever_du_soleil</th>\n",
       "      <td>sunrise</td>\n",
       "      <td>\\x118b7f</td>\n",
       "      <td>0</td>\n",
       "    </tr>\n",
       "    <tr>\n",
       "      <th>lever_de_soleil</th>\n",
       "      <td>sunrise</td>\n",
       "      <td>\\x118b7f</td>\n",
       "      <td>0</td>\n",
       "    </tr>\n",
       "    <tr>\n",
       "      <th>lever_soleil</th>\n",
       "      <td>sunrise</td>\n",
       "      <td>\\x118b7f</td>\n",
       "      <td>0</td>\n",
       "    </tr>\n",
       "  </tbody>\n",
       "</table>\n",
       "</div>"
      ],
      "text/plain": [
       "                   topic                                           post_hll  \\\n",
       "term                                                                          \n",
       "sunrise          sunrise  \\x148b7f4a9884a94762128521696a52a5252c629696a8...   \n",
       "sonnenaufgang    sunrise  \\x148b7f3192639ce44a0a54908329924294c420d25290...   \n",
       "leverdesoleil    sunrise  \\x148b7f0a0430984518cc409d2210824314a040867188...   \n",
       "sunrises         sunrise  \\x148b7f09046108231908209442288231106109062298...   \n",
       "lever soleil     sunrise  \\x148b7f1a0420a0e41800421464088431182120cc3200...   \n",
       "zonsopkomst      sunrise  \\x148b7f18485098410882209844204421086109404210...   \n",
       "zonsopgang       sunrise  \\x148b7f1940200c420882100481080421040208465200...   \n",
       "leverdusoleil    sunrise  \\x148b7f3886040401284202880310c23000a028020000...   \n",
       "leversoleil      sunrise  \\x138b7f03c1070107610781092109e10a270a610ac30c...   \n",
       "lever_du_soleil  sunrise                                           \\x118b7f   \n",
       "lever_de_soleil  sunrise                                           \\x118b7f   \n",
       "lever_soleil     sunrise                                           \\x118b7f   \n",
       "\n",
       "                 postcount_est  \n",
       "term                            \n",
       "sunrise                 851468  \n",
       "sonnenaufgang            41514  \n",
       "leverdesoleil            10283  \n",
       "sunrises                  9627  \n",
       "lever soleil              6750  \n",
       "zonsopkomst               5163  \n",
       "zonsopgang                3527  \n",
       "leverdusoleil             2050  \n",
       "leversoleil                187  \n",
       "lever_du_soleil              0  \n",
       "lever_de_soleil              0  \n",
       "lever_soleil                 0  "
      ]
     },
     "metadata": {},
     "output_type": "display_data"
    }
   ],
   "source": [
    "display(df[df[\"topic\"]==\"sunset\"].sort_values('postcount_est', ascending=False))\n",
    "display(df[df[\"topic\"]==\"sunrise\"].sort_values('postcount_est', ascending=False))\n",
    "df_flickr = df"
   ]
  },
  {
   "cell_type": "markdown",
   "id": "d473e454-14f0-41be-b590-ef1be567df39",
   "metadata": {},
   "source": [
    "## Total counts\n",
    "\n",
    "The HLL union operation is lossless. Therefore, all hll sets (post_hll) can be unioned, to calculate the total cardinality for Instagram and Flickr data.\n",
    "\n",
    "The function below first appeared in [Dunkel et al. (2020)](https://ad.vgiscience.org/yfcc_gridagg/04_interpretation.html#Union-of-hll-sets)"
   ]
  },
  {
   "cell_type": "code",
   "execution_count": 14,
   "id": "b9e2417c-4644-4fb6-ab91-500fc9409903",
   "metadata": {},
   "outputs": [],
   "source": [
    "def union_hll(hll: HLL, hll2):\n",
    "    \"\"\"Union of two HLL sets. The first HLL set will be modified in-place.\"\"\"\n",
    "    hll.union(hll2)\n",
    "    \n",
    "def union_all_hll(\n",
    "    hll_series: pd.Series, cardinality: bool = True) -> pd.Series:\n",
    "    \"\"\"HLL Union and (optional) cardinality estimation from series of hll sets\n",
    "\n",
    "        Args:\n",
    "        hll_series: Indexed series (bins) of hll sets. \n",
    "        cardinality: If True, returns cardinality (counts). Otherwise,\n",
    "            the unioned hll set will be returned.\n",
    "    \"\"\"\n",
    "    hll_set = None\n",
    "    for hll_set_str in hll_series.values.tolist():\n",
    "        if hll_set is None:\n",
    "            # set first hll set\n",
    "            hll_set = hll_from_byte(hll_set_str)\n",
    "            continue\n",
    "        hll_set2 = hll_from_byte(hll_set_str)\n",
    "        union_hll(hll_set, hll_set2)\n",
    "    return hll_set.cardinality()"
   ]
  },
  {
   "cell_type": "markdown",
   "id": "cc28ef31-ddb7-4d31-8889-1e634307f070",
   "metadata": {},
   "source": [
    "Union and calculate cardinality"
   ]
  },
  {
   "cell_type": "code",
   "execution_count": 15,
   "id": "14a699b2-5562-48b2-ad61-3f40c7350edf",
   "metadata": {},
   "outputs": [
    {
     "name": "stdout",
     "output_type": "stream",
     "text": [
      "Instagram sunset-sunrise: 21,192,990 estimated total posts\n",
      "Instagram sunset: 17,660,472 estimated total posts\n",
      "Instagram sunrise: 4,741,053 estimated total posts\n"
     ]
    }
   ],
   "source": [
    "instagram_total = union_all_hll(df_instagram[\"post_hll\"].dropna())\n",
    "instagram_sunrise = union_all_hll(df_instagram[df_instagram[\"topic\"]==\"sunrise\"][\"post_hll\"].dropna())\n",
    "instagram_sunset = union_all_hll(df_instagram[df_instagram[\"topic\"]==\"sunset\"][\"post_hll\"].dropna())\n",
    "print(f\"Instagram sunset-sunrise: {instagram_total:,.0f} estimated total posts\")\n",
    "print(f\"Instagram sunset: {instagram_sunset:,.0f} estimated total posts\")\n",
    "print(f\"Instagram sunrise: {instagram_sunrise:,.0f} estimated total posts\")"
   ]
  },
  {
   "cell_type": "markdown",
   "id": "8cc9b979-2432-48a2-b959-804e0b79639a",
   "metadata": {},
   "source": [
    "Repeat for Flickr"
   ]
  },
  {
   "cell_type": "code",
   "execution_count": 16,
   "id": "51515edd-0567-4fd0-b040-51254c112ebd",
   "metadata": {},
   "outputs": [
    {
     "name": "stdout",
     "output_type": "stream",
     "text": [
      "Flickr sunset-sunrise: 3,310,397 estimated total posts\n",
      "Flickr sunset: 2,545,460 estimated total posts\n",
      "Flickr sunrise: 881,324 estimated total posts\n"
     ]
    }
   ],
   "source": [
    "flickr_total = union_all_hll(df_flickr[\"post_hll\"].dropna())\n",
    "flickr_sunrise = union_all_hll(df_flickr[df_flickr[\"topic\"]==\"sunrise\"][\"post_hll\"].dropna())\n",
    "flickr_sunset = union_all_hll(df_flickr[df_flickr[\"topic\"]==\"sunset\"][\"post_hll\"].dropna())\n",
    "print(f\"Flickr sunset-sunrise: {flickr_total:,.0f} estimated total posts\")\n",
    "print(f\"Flickr sunset: {flickr_sunset:,.0f} estimated total posts\")\n",
    "print(f\"Flickr sunrise: {flickr_sunrise:,.0f} estimated total posts\")"
   ]
  },
  {
   "cell_type": "markdown",
   "id": "d460e494-06f3-40d9-bb8d-260f3095da10",
   "metadata": {},
   "source": [
    "**Question:** Percentage of all posts captured by just using the top-scoring two terms \"sunset\" and \"sunrise\"?"
   ]
  },
  {
   "cell_type": "code",
   "execution_count": 24,
   "id": "ca7a948c-e797-4f5d-9482-7bce86d38444",
   "metadata": {},
   "outputs": [
    {
     "name": "stdout",
     "output_type": "stream",
     "text": [
      "20,488,000 of Instagram posts contain either the term 'sunset' or 'sunrise', which is 96.7% of all sunset-sunrise posts in the dataset.\n"
     ]
    }
   ],
   "source": [
    "sum_sunset_sunrise = union_all_hll(\n",
    "    pd.Series([df_instagram[\"post_hll\"][\"sunset\"], df_instagram[\"post_hll\"][\"sunrise\"]]))\n",
    "print(\n",
    "    f\"{sum_sunset_sunrise:,.0f} of Instagram posts \"\n",
    "    f\"contain either the term 'sunset' or 'sunrise', \"\n",
    "    f\"which is {sum_sunset_sunrise/(instagram_total/100):,.1f}% \"\n",
    "    \"of all sunset-sunrise posts in the dataset.\")"
   ]
  },
  {
   "cell_type": "code",
   "execution_count": 25,
   "id": "d7d930e5-cf23-468b-988a-fddfc7ae170f",
   "metadata": {},
   "outputs": [
    {
     "name": "stdout",
     "output_type": "stream",
     "text": [
      "3,207,577 of Flickr posts contain either the term 'sunset' or 'sunrise', which is 96.9% of all sunset-sunrise posts in the dataset.\n"
     ]
    }
   ],
   "source": [
    "sum_sunset_sunrise = union_all_hll(\n",
    "    pd.Series([df_flickr[\"post_hll\"][\"sunset\"], df_flickr[\"post_hll\"][\"sunrise\"]]))\n",
    "print(\n",
    "    f\"{sum_sunset_sunrise:,.0f} of Flickr posts \"\n",
    "    f\"contain either the term 'sunset' or 'sunrise', \"\n",
    "    f\"which is {sum_sunset_sunrise/(flickr_total/100):,.1f}% \"\n",
    "    \"of all sunset-sunrise posts in the dataset.\")"
   ]
  },
  {
   "cell_type": "markdown",
   "id": "f5daee98-0010-4b9e-a450-701f31a3edb6",
   "metadata": {},
   "source": [
    "## Instagram geotagged/non-geotagged"
   ]
  },
  {
   "cell_type": "markdown",
   "id": "f8a95c15-7cfe-495f-b125-681f22aff0fa",
   "metadata": {},
   "source": [
    "For Instagram, the total counts also contain non-geotagged.\n",
    "\n",
    "Calculate the number of total geotagged Instagram posts in the dataset  \n",
    "from the pickle generated in the first notebook (100km aggregate data):"
   ]
  },
  {
   "cell_type": "code",
   "execution_count": 78,
   "id": "fbe4431b-33a3-4a0e-813d-68ecbc0dbb25",
   "metadata": {},
   "outputs": [
    {
     "name": "stdout",
     "output_type": "stream",
     "text": [
      "Instagram geotagged sunset-sunrise: 9,462,266 estimated total posts\n",
      "CPU times: user 1min 54s, sys: 27.4 ms, total: 1min 54s\n",
      "Wall time: 1min 54s\n"
     ]
    }
   ],
   "source": [
    "%%time\n",
    "import warnings; warnings.simplefilter('ignore')\n",
    "pickle_path = Path.cwd().parents[0] / \"out\" / \"pickles\"\n",
    "grid = pd.read_pickle(\n",
    "    pickle_path / \"instagram_postcount_sunsetsunrise_est_hll.pkl\")\n",
    "instagram_geotagged_total = union_all_hll(grid[\"postcount_hll\"].dropna())\n",
    "print(\n",
    "    f\"Instagram geotagged sunset-sunrise: \"\n",
    "    f\"{instagram_geotagged_total:,.0f} estimated total posts\")"
   ]
  },
  {
   "cell_type": "markdown",
   "id": "97857695-916e-495f-b5f2-cff44fa6c076",
   "metadata": {},
   "source": [
    "## Flickr Creative Commons Sample datasets"
   ]
  },
  {
   "cell_type": "markdown",
   "id": "ba3f6150-7e31-45f0-92d9-18d30d38bb9c",
   "metadata": {},
   "source": [
    "The raw data containing only creative commons Flickr posts can  \n",
    "be summarized by counting lines in the CSV files:"
   ]
  },
  {
   "cell_type": "code",
   "execution_count": 7,
   "id": "2345552c-0745-4917-88fd-d9e171463fab",
   "metadata": {},
   "outputs": [],
   "source": [
    "def get_line_count(csv: Path) -> int:\n",
    "    \"\"\"Get line count of CSV file (minus header)\"\"\"\n",
    "    with open(csv) as f:\n",
    "        return sum(1 for line in f) - 1"
   ]
  },
  {
   "cell_type": "code",
   "execution_count": 9,
   "id": "64ddc045-2c65-4845-aa92-97b36324ad38",
   "metadata": {},
   "outputs": [
    {
     "name": "stdout",
     "output_type": "stream",
     "text": [
      "82852 Flickr sunrise CC-BY images\n",
      "284990 Flickr sunset CC-BY images\n",
      "CPU times: user 135 ms, sys: 11.3 ms, total: 146 ms\n",
      "Wall time: 143 ms\n"
     ]
    }
   ],
   "source": [
    "%%time\n",
    "\n",
    "FLICKR_CC_SUNRISE = root / \"2020-04-07_Flickr_Sunrise_World_CCBy.csv\"\n",
    "FLICKR_CC_SUNSET = root / \"2020-04-07_Flickr_Sunset_World_CCBy.csv\"\n",
    "\n",
    "print(f'{get_line_count(FLICKR_CC_SUNRISE)} Flickr sunrise CC-BY images')\n",
    "print(f'{get_line_count(FLICKR_CC_SUNSET)} Flickr sunset CC-BY images')"
   ]
  },
  {
   "cell_type": "markdown",
   "id": "f6eab556",
   "metadata": {},
   "source": [
    "# Create notebook HTML"
   ]
  },
  {
   "cell_type": "code",
   "execution_count": 1,
   "id": "f0be3271",
   "metadata": {
    "tags": [
     "active-ipynb"
    ]
   },
   "outputs": [],
   "source": [
    "!jupyter nbconvert --to html_toc \\\n",
    "    --output-dir=../out/html ./09_statistics.ipynb \\\n",
    "    --template=../nbconvert.tpl \\\n",
    "    --ExtractOutputPreprocessor.enabled=False >&- 2>&- # create single output file"
   ]
  },
  {
   "cell_type": "markdown",
   "id": "7b430f46",
   "metadata": {},
   "source": [
    "Copy single HTML file to resource folder"
   ]
  },
  {
   "cell_type": "code",
   "execution_count": 2,
   "id": "5e529df3",
   "metadata": {},
   "outputs": [],
   "source": [
    "!cp ../out/html/09_statistics.html ../resources/html/"
   ]
  },
  {
   "cell_type": "code",
   "execution_count": null,
   "id": "0b2e5c10",
   "metadata": {},
   "outputs": [],
   "source": []
  }
 ],
 "metadata": {
  "kernelspec": {
   "display_name": "worker_env",
   "language": "python",
   "name": "worker_env"
  },
  "language_info": {
   "codemirror_mode": {
    "name": "ipython",
    "version": 3
   },
   "file_extension": ".py",
   "mimetype": "text/x-python",
   "name": "python",
   "nbconvert_exporter": "python",
   "pygments_lexer": "ipython3",
   "version": "3.9.2"
  }
 },
 "nbformat": 4,
 "nbformat_minor": 5
}
