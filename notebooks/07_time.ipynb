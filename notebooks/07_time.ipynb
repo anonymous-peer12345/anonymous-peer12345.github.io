{
 "cells": [
  {
   "cell_type": "markdown",
   "id": "11a258cd",
   "metadata": {},
   "source": [
    "# Temporal overview sunset/sunrise<a class=\"tocSkip\"></a>"
   ]
  },
  {
   "cell_type": "markdown",
   "id": "d649c7b4",
   "metadata": {},
   "source": [
    "_<a href= \"mailto:alexander.dunkel@tu-dresden.de\">Alexander Dunkel</a>, TU Dresden, Institute of Cartography;  Maximilian Hartmann, Universität Zürich (UZH), Geocomputation_\n",
    "\n",
    "----------------"
   ]
  },
  {
   "cell_type": "code",
   "execution_count": 1,
   "id": "16e0c6be",
   "metadata": {
    "jupyter": {
     "source_hidden": true
    },
    "tags": [
     "active-ipynb",
     "hide_code"
    ]
   },
   "outputs": [
    {
     "data": {
      "text/markdown": [
       "Last updated: Sep-02-2022, [Carto-Lab Docker](https://gitlab.vgiscience.de/lbsn/tools/jupyterlab) Version 0.9.0"
      ],
      "text/plain": [
       "<IPython.core.display.Markdown object>"
      ]
     },
     "execution_count": 1,
     "metadata": {},
     "output_type": "execute_result"
    }
   ],
   "source": [
    "from IPython.display import Markdown as md\n",
    "from datetime import date\n",
    "\n",
    "today = date.today()\n",
    "with open('/.version', 'r') as file: app_version = file.read().split(\"'\")[1]\n",
    "md(f\"Last updated: {today.strftime('%b-%d-%Y')}, [Carto-Lab Docker](https://gitlab.vgiscience.de/lbsn/tools/jupyterlab) Version {app_version}\")"
   ]
  },
  {
   "cell_type": "markdown",
   "id": "34acd75b",
   "metadata": {},
   "source": [
    "A brief look at the temporal distribution of the collected sunset/sunrise data."
   ]
  },
  {
   "cell_type": "markdown",
   "id": "96d354c7",
   "metadata": {},
   "source": [
    "# Preparations\n",
    "## Load dependencies\n",
    "\n",
    "This time, we use the [python_hll]() package to calculate hll set cardinalities.  \n",
    "`python_hll` is significantly slower than the native Postgres HLL implementation.  \n",
    "But there are only a few temporal HLL sets to calculate (year and months aggregates)."
   ]
  },
  {
   "cell_type": "code",
   "execution_count": 13,
   "id": "37d8b8e3",
   "metadata": {},
   "outputs": [],
   "source": [
    "import sys\n",
    "import pandas as pd\n",
    "from pathlib import Path\n",
    "from python_hll.hll import HLL\n",
    "from python_hll.util import NumberUtil\n",
    "module_path = str(Path.cwd().parents[0] / \"py\")\n",
    "if module_path not in sys.path:\n",
    "    sys.path.append(module_path)\n",
    "from modules import tools\n",
    "from _03_chimaps import OUTPUT"
   ]
  },
  {
   "cell_type": "markdown",
   "id": "5c042426",
   "metadata": {},
   "source": [
    "## Load HLL aggregate data\n",
    "\n",
    "Data is stored as aggregate HLL data (postcount) for each month."
   ]
  },
  {
   "cell_type": "code",
   "execution_count": 3,
   "id": "57a5a0b9",
   "metadata": {},
   "outputs": [],
   "source": [
    "root = Path.cwd().parents[1] / \"00_hll_data\"\n",
    "SUNRISE_INSTAGRAM = root / \"instagram-sunrise-months.csv\"\n",
    "SUNSET_INSTAGRAM = root / \"instagram-sunset-months.csv\"\n",
    "SUNRISE_FLICKR = root / \"flickr-sunrise-months.csv\"\n",
    "SUNSET_FLICKR = root / \"flickr-sunset-months.csv\""
   ]
  },
  {
   "cell_type": "markdown",
   "id": "25b5baee",
   "metadata": {},
   "source": [
    "Some statistics for these files:"
   ]
  },
  {
   "cell_type": "code",
   "execution_count": 4,
   "id": "5ee234c2",
   "metadata": {},
   "outputs": [
    {
     "data": {
      "text/html": [
       "<style type=\"text/css\">\n",
       "</style>\n",
       "<table id=\"T_b0d86\">\n",
       "  <thead>\n",
       "    <tr>\n",
       "      <th class=\"index_name level0\" >name</th>\n",
       "      <th id=\"T_b0d86_level0_col0\" class=\"col_heading level0 col0\" >SUNRISE_INSTAGRAM</th>\n",
       "      <th id=\"T_b0d86_level0_col1\" class=\"col_heading level0 col1\" >SUNSET_INSTAGRAM</th>\n",
       "      <th id=\"T_b0d86_level0_col2\" class=\"col_heading level0 col2\" >SUNRISE_FLICKR</th>\n",
       "      <th id=\"T_b0d86_level0_col3\" class=\"col_heading level0 col3\" >SUNSET_FLICKR</th>\n",
       "    </tr>\n",
       "  </thead>\n",
       "  <tbody>\n",
       "    <tr>\n",
       "      <th id=\"T_b0d86_level0_row0\" class=\"row_heading level0 row0\" >size</th>\n",
       "      <td id=\"T_b0d86_row0_col0\" class=\"data row0 col0\" >20.14 KB</td>\n",
       "      <td id=\"T_b0d86_row0_col1\" class=\"data row0 col1\" >19.12 KB</td>\n",
       "      <td id=\"T_b0d86_row0_col2\" class=\"data row0 col2\" >359.84 KB</td>\n",
       "      <td id=\"T_b0d86_row0_col3\" class=\"data row0 col3\" >359.87 KB</td>\n",
       "    </tr>\n",
       "    <tr>\n",
       "      <th id=\"T_b0d86_level0_row1\" class=\"row_heading level0 row1\" >records</th>\n",
       "      <td id=\"T_b0d86_row1_col0\" class=\"data row1 col0\" >36</td>\n",
       "      <td id=\"T_b0d86_row1_col1\" class=\"data row1 col1\" >27</td>\n",
       "      <td id=\"T_b0d86_row1_col2\" class=\"data row1 col2\" >145</td>\n",
       "      <td id=\"T_b0d86_row1_col3\" class=\"data row1 col3\" >145</td>\n",
       "    </tr>\n",
       "  </tbody>\n",
       "</table>\n"
      ],
      "text/plain": [
       "<pandas.io.formats.style.Styler at 0x7ff04c430eb0>"
      ]
     },
     "metadata": {},
     "output_type": "display_data"
    },
    {
     "name": "stdout",
     "output_type": "stream",
     "text": [
      "CPU times: user 692 ms, sys: 29.2 ms, total: 721 ms\n",
      "Wall time: 2.48 s\n"
     ]
    }
   ],
   "source": [
    "%%time\n",
    "data_files = {\n",
    "    \"SUNRISE_INSTAGRAM\":SUNRISE_INSTAGRAM,\n",
    "    \"SUNSET_INSTAGRAM\":SUNSET_INSTAGRAM,\n",
    "    \"SUNRISE_FLICKR\":SUNRISE_FLICKR,\n",
    "    \"SUNSET_FLICKR\":SUNSET_FLICKR,\n",
    "    }\n",
    "tools.display_file_stats(data_files)"
   ]
  },
  {
   "cell_type": "markdown",
   "id": "82240c9e",
   "metadata": {},
   "source": [
    "Preview CSV:"
   ]
  },
  {
   "cell_type": "code",
   "execution_count": 5,
   "id": "fb167189",
   "metadata": {},
   "outputs": [],
   "source": [
    "df = pd.read_csv(SUNSET_FLICKR, nrows=10)"
   ]
  },
  {
   "cell_type": "code",
   "execution_count": 6,
   "id": "ad85ab0a",
   "metadata": {},
   "outputs": [
    {
     "data": {
      "text/html": [
       "<div>\n",
       "<style scoped>\n",
       "    .dataframe tbody tr th:only-of-type {\n",
       "        vertical-align: middle;\n",
       "    }\n",
       "\n",
       "    .dataframe tbody tr th {\n",
       "        vertical-align: top;\n",
       "    }\n",
       "\n",
       "    .dataframe thead th {\n",
       "        text-align: right;\n",
       "    }\n",
       "</style>\n",
       "<table border=\"1\" class=\"dataframe\">\n",
       "  <thead>\n",
       "    <tr style=\"text-align: right;\">\n",
       "      <th></th>\n",
       "      <th>year</th>\n",
       "      <th>month</th>\n",
       "      <th>post_hll</th>\n",
       "    </tr>\n",
       "  </thead>\n",
       "  <tbody>\n",
       "    <tr>\n",
       "      <th>0</th>\n",
       "      <td>2007</td>\n",
       "      <td>1</td>\n",
       "      <td>\\x148b7f10c4218c43188e42144110c8810425298a228c...</td>\n",
       "    </tr>\n",
       "    <tr>\n",
       "      <th>1</th>\n",
       "      <td>2007</td>\n",
       "      <td>2</td>\n",
       "      <td>\\x148b7f1946118822390412886118484294a530442188...</td>\n",
       "    </tr>\n",
       "    <tr>\n",
       "      <th>2</th>\n",
       "      <td>2007</td>\n",
       "      <td>3</td>\n",
       "      <td>\\x148b7f188621904221084110a111c261908121025208...</td>\n",
       "    </tr>\n",
       "    <tr>\n",
       "      <th>3</th>\n",
       "      <td>2007</td>\n",
       "      <td>4</td>\n",
       "      <td>\\x148b7f108a41046629ce520882308a309042194e23a5...</td>\n",
       "    </tr>\n",
       "    <tr>\n",
       "      <th>4</th>\n",
       "      <td>2007</td>\n",
       "      <td>5</td>\n",
       "      <td>\\x148b7f11443108441106329845188424186220842298...</td>\n",
       "    </tr>\n",
       "    <tr>\n",
       "      <th>5</th>\n",
       "      <td>2007</td>\n",
       "      <td>6</td>\n",
       "      <td>\\x148b7f294831908428ca2214853088518cc13050721c...</td>\n",
       "    </tr>\n",
       "    <tr>\n",
       "      <th>6</th>\n",
       "      <td>2007</td>\n",
       "      <td>7</td>\n",
       "      <td>\\x148b7f10c83290e4210a510c842110518ca31144320c...</td>\n",
       "    </tr>\n",
       "    <tr>\n",
       "      <th>7</th>\n",
       "      <td>2007</td>\n",
       "      <td>8</td>\n",
       "      <td>\\x148b7f2086610ca431043208831084620847298a318c...</td>\n",
       "    </tr>\n",
       "    <tr>\n",
       "      <th>8</th>\n",
       "      <td>2007</td>\n",
       "      <td>9</td>\n",
       "      <td>\\x148b7f310a420cc218cc418c8629ca528ce73146519c...</td>\n",
       "    </tr>\n",
       "    <tr>\n",
       "      <th>9</th>\n",
       "      <td>2007</td>\n",
       "      <td>10</td>\n",
       "      <td>\\x148b7f210c6109022148310c662042310864390a4114...</td>\n",
       "    </tr>\n",
       "  </tbody>\n",
       "</table>\n",
       "</div>"
      ],
      "text/plain": [
       "   year  month                                           post_hll\n",
       "0  2007      1  \\x148b7f10c4218c43188e42144110c8810425298a228c...\n",
       "1  2007      2  \\x148b7f1946118822390412886118484294a530442188...\n",
       "2  2007      3  \\x148b7f188621904221084110a111c261908121025208...\n",
       "3  2007      4  \\x148b7f108a41046629ce520882308a309042194e23a5...\n",
       "4  2007      5  \\x148b7f11443108441106329845188424186220842298...\n",
       "5  2007      6  \\x148b7f294831908428ca2214853088518cc13050721c...\n",
       "6  2007      7  \\x148b7f10c83290e4210a510c842110518ca31144320c...\n",
       "7  2007      8  \\x148b7f2086610ca431043208831084620847298a318c...\n",
       "8  2007      9  \\x148b7f310a420cc218cc418c8629ca528ce73146519c...\n",
       "9  2007     10  \\x148b7f210c6109022148310c662042310864390a4114..."
      ]
     },
     "metadata": {},
     "output_type": "display_data"
    }
   ],
   "source": [
    "display(df)"
   ]
  },
  {
   "cell_type": "markdown",
   "id": "d5faaeee",
   "metadata": {},
   "source": [
    "# Calculate HLL Cardinality per month"
   ]
  },
  {
   "cell_type": "markdown",
   "id": "69ddacf1",
   "metadata": {},
   "source": [
    "**Prepare functions**\n",
    "\n",
    "These functions were first used in the [YFCC HLL Workshop](https://ad.vgiscience.org/mobile_cart_workshop2020/02_hll_intro.html)."
   ]
  },
  {
   "cell_type": "code",
   "execution_count": 7,
   "id": "0f8951ab",
   "metadata": {},
   "outputs": [],
   "source": [
    "def hll_from_byte(hll_set: str):\n",
    "    \"\"\"Return HLL set from binary representation\"\"\"\n",
    "    hex_string = hll_set[2:]\n",
    "    return HLL.from_bytes(\n",
    "        NumberUtil.from_hex(\n",
    "            hex_string, 0, len(hex_string)))\n",
    "\n",
    "def cardinality_from_hll(hll_set):\n",
    "    \"\"\"Turn binary hll into HLL set and return cardinality\"\"\"\n",
    "    hll = hll_from_byte(hll_set)\n",
    "    return hll.cardinality() - 1"
   ]
  },
  {
   "cell_type": "markdown",
   "id": "b4dc143e",
   "metadata": {},
   "source": [
    "Define additional functions for reading and formatting CSV as `pd.DataFrame`"
   ]
  },
  {
   "cell_type": "code",
   "execution_count": 8,
   "id": "eb41b95e",
   "metadata": {},
   "outputs": [],
   "source": [
    "def read_csv_datetime(csv: Path) -> pd.DataFrame:\n",
    "    \"\"\"Read CSV with parsing datetime index (months)\n",
    "    \n",
    "        First CSV column: Year\n",
    "        Second CSV column: Month\n",
    "    \"\"\"\n",
    "    date_cols = [\"year\", \"month\"]\n",
    "    df = pd.read_csv(\n",
    "        csv, index_col='datetime', \n",
    "        parse_dates={'datetime':date_cols},\n",
    "        date_parser=lambda x: pd.datetime.strptime(x, '%Y %m'),\n",
    "        keep_date_col='False')\n",
    "    df.drop(columns=date_cols, inplace=True)\n",
    "    return df\n",
    "    \n",
    "def append_cardinality_df(df: pd.DataFrame, hll_col: str = \"post_hll\"):\n",
    "    \"\"\"Calculate cardinality from HLL and append to extra column in df\"\"\"\n",
    "    df['postcount_est'] = df.apply(\n",
    "        lambda x: cardinality_from_hll(\n",
    "           x[hll_col]),\n",
    "        axis=1)\n",
    "    df.drop(columns=[\"post_hll\"], inplace=True)\n",
    "    return df\n",
    "\n",
    "def filter_fill_time(\n",
    "        df: pd.DataFrame, min_year: int, \n",
    "        max_year: int, val_col: str = \"postcount_est\"):\n",
    "    \"\"\"Filter time values between min - max year and fill missing values\"\"\"\n",
    "    min_date = pd.Timestamp(f'{min_year}-01-01')\n",
    "    max_date = pd.Timestamp(f'{max_year}-01-01')\n",
    "    # clip by start and end date\n",
    "    if not min_date in df.index:\n",
    "        df.loc[min_date, val_col] = 0\n",
    "    if not max_date in df.index:\n",
    "        df.loc[min_date, val_col] = 0\n",
    "    df.sort_index(inplace=True)\n",
    "    # mask min and max time\n",
    "    time_mask = ((df.index >= min_date) & (df.index <= max_date))\n",
    "    # fill missing months with 0\n",
    "    # this will also set the day to max of month\n",
    "    series = df.loc[time_mask][val_col].resample('M').sum().fillna(0)\n",
    "    return series.to_frame()"
   ]
  },
  {
   "cell_type": "markdown",
   "id": "e808af40",
   "metadata": {},
   "source": [
    "Apply functions to all data sets.\n",
    "- Read from CSV\n",
    "- calculate cardinality\n",
    "- merge year and month to single column\n",
    "- filter 2007 - 2018 range, fill missing values"
   ]
  },
  {
   "cell_type": "code",
   "execution_count": 9,
   "id": "e52c09ab",
   "metadata": {},
   "outputs": [
    {
     "name": "stdout",
     "output_type": "stream",
     "text": [
      "CPU times: user 18.7 s, sys: 0 ns, total: 18.7 s\n",
      "Wall time: 18.8 s\n"
     ]
    }
   ],
   "source": [
    "%%time\n",
    "import warnings; warnings.simplefilter('ignore')\n",
    "dfs = {}\n",
    "for key, data in data_files.items():\n",
    "    df = read_csv_datetime(data)\n",
    "    df = append_cardinality_df(df)\n",
    "    df = filter_fill_time(df, 2007, 2018)\n",
    "    dfs[key] = df"
   ]
  },
  {
   "cell_type": "markdown",
   "id": "74a406c4",
   "metadata": {},
   "source": [
    "<details><summary><strong>RuntimeWarning?</strong> </summary>\n",
    "    <div style=\"width:500px\"><ul>\n",
    "        <li><a href=\"https://github.com/AdRoll/python-hll\">python-hll library</a> is in a very early stage of development</li>  \n",
    "        <li>it is not fully compatible with the <a href=\"https://github.com/citusdata/postgresql-hll\">citus hll implementation</a> in postgres</li> \n",
    "        <li>The shown <a href=\"https://tech.nextroll.com/blog/dev/2019/10/01/hll-in-python.html\">RuntimeWarning (Overflow)</a> is one of the issues that need to be resolved in the future</li>\n",
    "        <li>If you run this notebook locally, it is recommended to use <a href=\"https://gitlab.vgiscience.de/lbsn/databases/pg-hll-empty\">pg-hll-empty</a> for\n",
    "        any hll calculations, as is shown (e.g.) in the original <a href=\"https://gitlab.vgiscience.de/ad/yfcc_gridagg\">YFCC100M notebooks</a>.</li>\n",
    "        <li>There is no significant negative impact on accuracy for this application case.</li>\n",
    "        </ul>\n",
    "</div>\n",
    "</details>"
   ]
  },
  {
   "cell_type": "code",
   "execution_count": 10,
   "id": "cdf006ae",
   "metadata": {},
   "outputs": [
    {
     "data": {
      "text/html": [
       "<div>\n",
       "<style scoped>\n",
       "    .dataframe tbody tr th:only-of-type {\n",
       "        vertical-align: middle;\n",
       "    }\n",
       "\n",
       "    .dataframe tbody tr th {\n",
       "        vertical-align: top;\n",
       "    }\n",
       "\n",
       "    .dataframe thead th {\n",
       "        text-align: right;\n",
       "    }\n",
       "</style>\n",
       "<table border=\"1\" class=\"dataframe\">\n",
       "  <thead>\n",
       "    <tr style=\"text-align: right;\">\n",
       "      <th></th>\n",
       "      <th>postcount_est</th>\n",
       "    </tr>\n",
       "    <tr>\n",
       "      <th>datetime</th>\n",
       "      <th></th>\n",
       "    </tr>\n",
       "  </thead>\n",
       "  <tbody>\n",
       "    <tr>\n",
       "      <th>2007-01-31</th>\n",
       "      <td>2787</td>\n",
       "    </tr>\n",
       "    <tr>\n",
       "      <th>2007-02-28</th>\n",
       "      <td>2300</td>\n",
       "    </tr>\n",
       "    <tr>\n",
       "      <th>2007-03-31</th>\n",
       "      <td>3386</td>\n",
       "    </tr>\n",
       "    <tr>\n",
       "      <th>2007-04-30</th>\n",
       "      <td>2630</td>\n",
       "    </tr>\n",
       "    <tr>\n",
       "      <th>2007-05-31</th>\n",
       "      <td>2407</td>\n",
       "    </tr>\n",
       "  </tbody>\n",
       "</table>\n",
       "</div>"
      ],
      "text/plain": [
       "            postcount_est\n",
       "datetime                 \n",
       "2007-01-31           2787\n",
       "2007-02-28           2300\n",
       "2007-03-31           3386\n",
       "2007-04-30           2630\n",
       "2007-05-31           2407"
      ]
     },
     "execution_count": 10,
     "metadata": {},
     "output_type": "execute_result"
    }
   ],
   "source": [
    "dfs[\"SUNRISE_FLICKR\"].head(5)"
   ]
  },
  {
   "cell_type": "markdown",
   "id": "10f9083b",
   "metadata": {},
   "source": [
    "# Visualize Cardinality\n",
    "\n",
    "Define plot function."
   ]
  },
  {
   "cell_type": "code",
   "execution_count": 14,
   "id": "b750238a",
   "metadata": {},
   "outputs": [],
   "source": [
    "import matplotlib.pyplot as plt\n",
    "import matplotlib.ticker as mticker\n",
    "import seaborn as sns\n",
    "from matplotlib.axes import Axes \n",
    "from matplotlib import cm\n",
    "from typing import Tuple\n",
    "\n",
    "def bar_plot_time(\n",
    "        df: pd.DataFrame, ax: Axes, color: str, label: str,\n",
    "        val_col: str = \"postcount_est\") -> Axes:\n",
    "    \"\"\"Matplotlib Barplot with time axis formatting\"\"\"\n",
    "    ax = df.set_index(\n",
    "        df.index.map(lambda s: s.strftime('%Y'))).plot.bar(\n",
    "            ax=ax, y=\"postcount_est\", color=color, width=1.0,\n",
    "            label=label, edgecolor=\"white\", linewidth=0.5, alpha=0.8)\n",
    "    return ax\n",
    "\n",
    "def plot_time(dfs: Tuple[pd.DataFrame, pd.DataFrame], title, filename = None, output = OUTPUT):\n",
    "    \"\"\"Create dataframe(s) time plot\"\"\"\n",
    "    fig, ax = plt.subplots()\n",
    "    fig.set_size_inches(15.7, 4.27)\n",
    "    # get color\n",
    "    colors = sns.color_palette(\"vlag\", as_cmap=True, n_colors=2)\n",
    "    # sunset\n",
    "    ax = bar_plot_time(\n",
    "        df=dfs[0], ax=ax, color=colors([1.0]), label=\"Sunset\")\n",
    "    # sunrise\n",
    "    ax = bar_plot_time(\n",
    "        df=dfs[1], ax=ax, color=colors([0.0]), label=\"Sunrise\")\n",
    "    # x axis ticker formatting\n",
    "    tick_loc = mticker.MultipleLocator(12)\n",
    "    ax.xaxis.set_major_locator(tick_loc)\n",
    "    ax.tick_params(axis='x', rotation=45)\n",
    "    ax.ticklabel_format(axis='y', style='plain')\n",
    "    ax.set(xlabel=\"Month\", ylabel=\"Post Count (estimate)\")\n",
    "    ax.spines[\"left\"].set_linewidth(0.25)\n",
    "    ax.spines[\"bottom\"].set_linewidth(0.25)\n",
    "    ax.spines[\"top\"].set_linewidth(0)\n",
    "    ax.spines[\"right\"].set_linewidth(0)\n",
    "    ax.yaxis.set_tick_params(width=0.5)\n",
    "    # add legend\n",
    "    h, l = ax.get_legend_handles_labels()\n",
    "    ax.legend(h, l, frameon=False, loc='center left', bbox_to_anchor=(1, 0.5))\n",
    "    ax.set_title(title)\n",
    "    # store figure to file\n",
    "    if filename:\n",
    "        fig.savefig(\n",
    "            output / \"figures\" / f\"{filename}.png\", dpi=300, format='PNG',\n",
    "            bbox_inches='tight', pad_inches=1, facecolor=\"white\")\n",
    "        # also save as svg\n",
    "        fig.savefig(\n",
    "            output / \"svg\" / f\"{filename}.svg\", format='svg',\n",
    "            bbox_inches='tight', pad_inches=1, facecolor=\"white\")"
   ]
  },
  {
   "cell_type": "markdown",
   "id": "67cd54c7",
   "metadata": {},
   "source": [
    "Plot sunset and sunrise for both Instagram and Flickr collected data."
   ]
  },
  {
   "cell_type": "code",
   "execution_count": 15,
   "id": "fa126a25",
   "metadata": {},
   "outputs": [
    {
     "data": {
      "image/png": "[encoded data removed]",
      "text/plain": [
       "<Figure size 1570x427 with 1 Axes>"
      ]
     },
     "metadata": {},
     "output_type": "display_data"
    }
   ],
   "source": [
    "plot_time(\n",
    "    dfs = (dfs[\"SUNSET_INSTAGRAM\"], dfs[\"SUNRISE_INSTAGRAM\"]),\n",
    "    title='Instagram sunset and sunrise reactions', \n",
    "    filename=\"temporal_analysis_instagram\")"
   ]
  },
  {
   "cell_type": "code",
   "execution_count": 16,
   "id": "d4371f83",
   "metadata": {},
   "outputs": [
    {
     "data": {
      "image/png": "[encoded data removed]",
      "text/plain": [
       "<Figure size 1570x427 with 1 Axes>"
      ]
     },
     "metadata": {},
     "output_type": "display_data"
    }
   ],
   "source": [
    "plot_time(\n",
    "    dfs = (dfs[\"SUNSET_FLICKR\"], dfs[\"SUNRISE_FLICKR\"]),\n",
    "    title='Flickr sunset and sunrise reactions', \n",
    "    filename=\"temporal_analysis_flickr\")"
   ]
  },
  {
   "cell_type": "markdown",
   "id": "f6eab556",
   "metadata": {},
   "source": [
    "# Create notebook HTML"
   ]
  },
  {
   "cell_type": "code",
   "execution_count": 19,
   "id": "f0be3271",
   "metadata": {
    "tags": [
     "active-ipynb"
    ]
   },
   "outputs": [],
   "source": [
    "!jupyter nbconvert --to html_toc \\\n",
    "    --output-dir=../out/html ./07_time.ipynb \\\n",
    "    --template=../nbconvert.tpl \\\n",
    "    --ExtractOutputPreprocessor.enabled=False >&- 2>&- # create single output file"
   ]
  },
  {
   "cell_type": "markdown",
   "id": "7b430f46",
   "metadata": {},
   "source": [
    "Copy single HTML file to resource folder"
   ]
  },
  {
   "cell_type": "code",
   "execution_count": 20,
   "id": "5e529df3",
   "metadata": {},
   "outputs": [],
   "source": [
    "!cp ../out/html/07_time.html ../resources/html/"
   ]
  },
  {
   "cell_type": "code",
   "execution_count": null,
   "id": "0b2e5c10",
   "metadata": {},
   "outputs": [],
   "source": []
  }
 ],
 "metadata": {
  "kernelspec": {
   "display_name": "worker_env",
   "language": "python",
   "name": "worker_env"
  },
  "language_info": {
   "codemirror_mode": {
    "name": "ipython",
    "version": 3
   },
   "file_extension": ".py",
   "mimetype": "text/x-python",
   "name": "python",
   "nbconvert_exporter": "python",
   "pygments_lexer": "ipython3",
   "version": "3.9.13"
  }
 },
 "nbformat": 4,
 "nbformat_minor": 5
}
