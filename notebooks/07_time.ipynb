{
 "cells": [
  {
   "cell_type": "markdown",
   "id": "11a258cd",
   "metadata": {},
   "source": [
    "# Temporal overview sunset/sunrise<a class=\"tocSkip\"></a>"
   ]
  },
  {
   "cell_type": "markdown",
   "id": "d649c7b4",
   "metadata": {},
   "source": [
    "_<a href= "mailto:▓▓▓▓▓▓▓▓.▓▓▓▓▓▓▓@▓▓▓▓▓▓▓▓.▓▓▓">▓▓▓▓▓▓▓ ▓▓▓▓▓▓▓</a>, ▓▓▓▓▓▓▓, ▓▓▓▓▓▓▓ ▓▓▓▓▓▓▓ ▓▓▓▓▓▓▓;  ▓▓▓▓▓▓▓ ▓▓▓▓▓▓▓, ▓▓▓▓▓▓▓ ▓▓▓▓▓▓▓ ▓▓▓▓▓▓▓, ▓▓▓▓▓▓▓_\n",
    "* Redacted for double blind peer review\n",
    "\n",
    "----------------"
   ]
  },
  {
   "cell_type": "code",
   "execution_count": 1,
   "id": "16e0c6be",
   "metadata": {
    "jupyter": {
     "source_hidden": true
    },
    "tags": [
     "active-ipynb",
     "hide_code"
    ]
   },
   "outputs": [
    {
     "data": {
      "text/markdown": [
       "Last updated: Aug-22-2021"
      ],
      "text/plain": [
       "<IPython.core.display.Markdown object>"
      ]
     },
     "execution_count": 1,
     "metadata": {},
     "output_type": "execute_result"
    }
   ],
   "source": [
    "from IPython.display import Markdown as md\n",
    "from datetime import date\n",
    "\n",
    "today = date.today()\n",
    "md(f\"Last updated: {today.strftime('%b-%d-%Y')}\")"
   ]
  },
  {
   "cell_type": "markdown",
   "id": "34acd75b",
   "metadata": {},
   "source": [
    "A brief look at the temporal distribution of the collected sunset/sunrise data."
   ]
  },
  {
   "cell_type": "markdown",
   "id": "96d354c7",
   "metadata": {},
   "source": [
    "# Preparations\n",
    "## Load dependencies\n",
    "\n",
    "This time, we use the [python_hll]() package to calculate hll set cardinalities.  \n",
    "`python_hll` is significantly slower than the native Postgres HLL implementation.  \n",
    "But there are only a few temporal HLL sets to calculate (year and months aggregates)."
   ]
  },
  {
   "cell_type": "code",
   "execution_count": 2,
   "id": "37d8b8e3",
   "metadata": {},
   "outputs": [],
   "source": [
    "import sys\n",
    "import pandas as pd\n",
    "from pathlib import Path\n",
    "from python_hll.hll import HLL\n",
    "from python_hll.util import NumberUtil\n",
    "module_path = str(Path.cwd().parents[0] / \"py\")\n",
    "if module_path not in sys.path:\n",
    "    sys.path.append(module_path)\n",
    "from modules import tools"
   ]
  },
  {
   "cell_type": "markdown",
   "id": "5c042426",
   "metadata": {},
   "source": [
    "## Load HLL aggregate data\n",
    "\n",
    "Data is stored as aggregate HLL data (postcount) for each month."
   ]
  },
  {
   "cell_type": "code",
   "execution_count": 3,
   "id": "57a5a0b9",
   "metadata": {},
   "outputs": [],
   "source": [
    "root = Path.cwd().parents[1] / \"00_hll_data\"\n",
    "SUNRISE_INSTAGRAM = root / \"instagram-sunrise-months.csv\"\n",
    "SUNSET_INSTAGRAM = root / \"instagram-sunset-months.csv\"\n",
    "SUNRISE_FLICKR = root / \"flickr-sunrise-months.csv\"\n",
    "SUNSET_FLICKR = root / \"flickr-sunset-months.csv\""
   ]
  },
  {
   "cell_type": "markdown",
   "id": "25b5baee",
   "metadata": {},
   "source": [
    "Some statistics for these files:"
   ]
  },
  {
   "cell_type": "code",
   "execution_count": 4,
   "id": "5ee234c2",
   "metadata": {},
   "outputs": [
    {
     "data": {
      "text/html": [
       "<style  type=\"text/css\" >\n",
       "</style><table id=\"T_fe3b2_\" ><thead>    <tr>        <th class=\"index_name level0\" >name</th>        <th class=\"col_heading level0 col0\" >SUNRISE_INSTAGRAM</th>        <th class=\"col_heading level0 col1\" >SUNSET_INSTAGRAM</th>        <th class=\"col_heading level0 col2\" >SUNRISE_FLICKR</th>        <th class=\"col_heading level0 col3\" >SUNSET_FLICKR</th>    </tr></thead><tbody>\n",
       "                <tr>\n",
       "                        <th id=\"T_fe3b2_level0_row0\" class=\"row_heading level0 row0\" >size</th>\n",
       "                        <td id=\"T_fe3b2_row0_col0\" class=\"data row0 col0\" >20.14 KB</td>\n",
       "                        <td id=\"T_fe3b2_row0_col1\" class=\"data row0 col1\" >19.12 KB</td>\n",
       "                        <td id=\"T_fe3b2_row0_col2\" class=\"data row0 col2\" >359.84 KB</td>\n",
       "                        <td id=\"T_fe3b2_row0_col3\" class=\"data row0 col3\" >359.87 KB</td>\n",
       "            </tr>\n",
       "            <tr>\n",
       "                        <th id=\"T_fe3b2_level0_row1\" class=\"row_heading level0 row1\" >records</th>\n",
       "                        <td id=\"T_fe3b2_row1_col0\" class=\"data row1 col0\" >36</td>\n",
       "                        <td id=\"T_fe3b2_row1_col1\" class=\"data row1 col1\" >27</td>\n",
       "                        <td id=\"T_fe3b2_row1_col2\" class=\"data row1 col2\" >145</td>\n",
       "                        <td id=\"T_fe3b2_row1_col3\" class=\"data row1 col3\" >145</td>\n",
       "            </tr>\n",
       "    </tbody></table>"
      ],
      "text/plain": [
       "<pandas.io.formats.style.Styler at 0x7fda721bc3d0>"
      ]
     },
     "metadata": {},
     "output_type": "display_data"
    },
    {
     "name": "stdout",
     "output_type": "stream",
     "text": [
      "CPU times: user 284 ms, sys: 40.5 ms, total: 325 ms\n",
      "Wall time: 433 ms\n"
     ]
    }
   ],
   "source": [
    "%%time\n",
    "data_files = {\n",
    "    \"SUNRISE_INSTAGRAM\":SUNRISE_INSTAGRAM,\n",
    "    \"SUNSET_INSTAGRAM\":SUNSET_INSTAGRAM,\n",
    "    \"SUNRISE_FLICKR\":SUNRISE_FLICKR,\n",
    "    \"SUNSET_FLICKR\":SUNSET_FLICKR,\n",
    "    }\n",
    "tools.display_file_stats(data_files)"
   ]
  },
  {
   "cell_type": "markdown",
   "id": "82240c9e",
   "metadata": {},
   "source": [
    "Preview CSV:"
   ]
  },
  {
   "cell_type": "code",
   "execution_count": 5,
   "id": "fb167189",
   "metadata": {},
   "outputs": [],
   "source": [
    "df = pd.read_csv(SUNSET_FLICKR, nrows=10)"
   ]
  },
  {
   "cell_type": "code",
   "execution_count": 6,
   "id": "ad85ab0a",
   "metadata": {},
   "outputs": [
    {
     "data": {
      "text/html": [
       "<div>\n",
       "<style scoped>\n",
       "    .dataframe tbody tr th:only-of-type {\n",
       "        vertical-align: middle;\n",
       "    }\n",
       "\n",
       "    .dataframe tbody tr th {\n",
       "        vertical-align: top;\n",
       "    }\n",
       "\n",
       "    .dataframe thead th {\n",
       "        text-align: right;\n",
       "    }\n",
       "</style>\n",
       "<table border=\"1\" class=\"dataframe\">\n",
       "  <thead>\n",
       "    <tr style=\"text-align: right;\">\n",
       "      <th></th>\n",
       "      <th>year</th>\n",
       "      <th>month</th>\n",
       "      <th>post_hll</th>\n",
       "    </tr>\n",
       "  </thead>\n",
       "  <tbody>\n",
       "    <tr>\n",
       "      <th>0</th>\n",
       "      <td>2007</td>\n",
       "      <td>1</td>\n",
       "      <td>\\x148b7f10c4218c43188e42144110c8810425298a228c...</td>\n",
       "    </tr>\n",
       "    <tr>\n",
       "      <th>1</th>\n",
       "      <td>2007</td>\n",
       "      <td>2</td>\n",
       "      <td>\\x148b7f1946118822390412886118484294a530442188...</td>\n",
       "    </tr>\n",
       "    <tr>\n",
       "      <th>2</th>\n",
       "      <td>2007</td>\n",
       "      <td>3</td>\n",
       "      <td>\\x148b7f188621904221084110a111c261908121025208...</td>\n",
       "    </tr>\n",
       "    <tr>\n",
       "      <th>3</th>\n",
       "      <td>2007</td>\n",
       "      <td>4</td>\n",
       "      <td>\\x148b7f108a41046629ce520882308a309042194e23a5...</td>\n",
       "    </tr>\n",
       "    <tr>\n",
       "      <th>4</th>\n",
       "      <td>2007</td>\n",
       "      <td>5</td>\n",
       "      <td>\\x148b7f11443108441106329845188424186220842298...</td>\n",
       "    </tr>\n",
       "    <tr>\n",
       "      <th>5</th>\n",
       "      <td>2007</td>\n",
       "      <td>6</td>\n",
       "      <td>\\x148b7f294831908428ca2214853088518cc13050721c...</td>\n",
       "    </tr>\n",
       "    <tr>\n",
       "      <th>6</th>\n",
       "      <td>2007</td>\n",
       "      <td>7</td>\n",
       "      <td>\\x148b7f10c83290e4210a510c842110518ca31144320c...</td>\n",
       "    </tr>\n",
       "    <tr>\n",
       "      <th>7</th>\n",
       "      <td>2007</td>\n",
       "      <td>8</td>\n",
       "      <td>\\x148b7f2086610ca431043208831084620847298a318c...</td>\n",
       "    </tr>\n",
       "    <tr>\n",
       "      <th>8</th>\n",
       "      <td>2007</td>\n",
       "      <td>9</td>\n",
       "      <td>\\x148b7f310a420cc218cc418c8629ca528ce73146519c...</td>\n",
       "    </tr>\n",
       "    <tr>\n",
       "      <th>9</th>\n",
       "      <td>2007</td>\n",
       "      <td>10</td>\n",
       "      <td>\\x148b7f210c6109022148310c662042310864390a4114...</td>\n",
       "    </tr>\n",
       "  </tbody>\n",
       "</table>\n",
       "</div>"
      ],
      "text/plain": [
       "   year  month                                           post_hll\n",
       "0  2007      1  \\x148b7f10c4218c43188e42144110c8810425298a228c...\n",
       "1  2007      2  \\x148b7f1946118822390412886118484294a530442188...\n",
       "2  2007      3  \\x148b7f188621904221084110a111c261908121025208...\n",
       "3  2007      4  \\x148b7f108a41046629ce520882308a309042194e23a5...\n",
       "4  2007      5  \\x148b7f11443108441106329845188424186220842298...\n",
       "5  2007      6  \\x148b7f294831908428ca2214853088518cc13050721c...\n",
       "6  2007      7  \\x148b7f10c83290e4210a510c842110518ca31144320c...\n",
       "7  2007      8  \\x148b7f2086610ca431043208831084620847298a318c...\n",
       "8  2007      9  \\x148b7f310a420cc218cc418c8629ca528ce73146519c...\n",
       "9  2007     10  \\x148b7f210c6109022148310c662042310864390a4114..."
      ]
     },
     "metadata": {},
     "output_type": "display_data"
    }
   ],
   "source": [
    "display(df)"
   ]
  },
  {
   "cell_type": "markdown",
   "id": "d5faaeee",
   "metadata": {},
   "source": [
    "# Calculate HLL Cardinality per month"
   ]
  },
  {
   "cell_type": "markdown",
   "id": "69ddacf1",
   "metadata": {},
   "source": [
    "**Prepare functions**\n",
    "\n",
    "These functions were first used in the [YFCC HLL Workshop](https://ad.vgiscience.org/mobile_cart_workshop2020/02_hll_intro.html)."
   ]
  },
  {
   "cell_type": "code",
   "execution_count": 7,
   "id": "0f8951ab",
   "metadata": {},
   "outputs": [],
   "source": [
    "def hll_from_byte(hll_set: str):\n",
    "    \"\"\"Return HLL set from binary representation\"\"\"\n",
    "    hex_string = hll_set[2:]\n",
    "    return HLL.from_bytes(\n",
    "        NumberUtil.from_hex(\n",
    "            hex_string, 0, len(hex_string)))\n",
    "\n",
    "def cardinality_from_hll(hll_set):\n",
    "    \"\"\"Turn binary hll into HLL set and return cardinality\"\"\"\n",
    "    hll = hll_from_byte(hll_set)\n",
    "    return hll.cardinality() - 1"
   ]
  },
  {
   "cell_type": "markdown",
   "id": "b4dc143e",
   "metadata": {},
   "source": [
    "Define additional functions for reading and formatting CSV as `pd.DataFrame`"
   ]
  },
  {
   "cell_type": "code",
   "execution_count": 8,
   "id": "eb41b95e",
   "metadata": {},
   "outputs": [],
   "source": [
    "def read_csv_datetime(csv: Path) -> pd.DataFrame:\n",
    "    \"\"\"Read CSV with parsing datetime index (months)\n",
    "    \n",
    "        First CSV column: Year\n",
    "        Second CSV column: Month\n",
    "    \"\"\"\n",
    "    date_cols = [\"year\", \"month\"]\n",
    "    df = pd.read_csv(\n",
    "        csv, index_col='datetime', \n",
    "        parse_dates={'datetime':date_cols},\n",
    "        date_parser=lambda x: pd.datetime.strptime(x, '%Y %m'),\n",
    "        keep_date_col='False')\n",
    "    df.drop(columns=date_cols, inplace=True)\n",
    "    return df\n",
    "    \n",
    "def append_cardinality_df(df: pd.DataFrame, hll_col: str = \"post_hll\"):\n",
    "    \"\"\"Calculate cardinality from HLL and append to extra column in df\"\"\"\n",
    "    df['postcount_est'] = df.apply(\n",
    "        lambda x: cardinality_from_hll(\n",
    "           x[hll_col]),\n",
    "        axis=1)\n",
    "    df.drop(columns=[\"post_hll\"], inplace=True)\n",
    "    return df\n",
    "\n",
    "def filter_fill_time(\n",
    "        df: pd.DataFrame, min_year: int, \n",
    "        max_year: int, val_col: str = \"postcount_est\"):\n",
    "    \"\"\"Filter time values between min - max year and fill missing values\"\"\"\n",
    "    min_date = pd.Timestamp(f'{min_year}-01-01')\n",
    "    max_date = pd.Timestamp(f'{max_year}-01-01')\n",
    "    # clip by start and end date\n",
    "    if not min_date in df.index:\n",
    "        df.loc[min_date, val_col] = 0\n",
    "    if not max_date in df.index:\n",
    "        df.loc[min_date, val_col] = 0\n",
    "    df.sort_index(inplace=True)\n",
    "    # mask min and max time\n",
    "    time_mask = ((df.index >= min_date) & (df.index <= max_date))\n",
    "    # fill missing months with 0\n",
    "    # this will also set the day to max of month\n",
    "    series = df.loc[time_mask][val_col].resample('M').sum().fillna(0)\n",
    "    return series.to_frame()"
   ]
  },
  {
   "cell_type": "markdown",
   "id": "e808af40",
   "metadata": {},
   "source": [
    "Apply functions to all data sets.\n",
    "- Read from CSV\n",
    "- calculate cardinality\n",
    "- merge year and month to single column\n",
    "- filter 2007 - 2018 range, fill missing values"
   ]
  },
  {
   "cell_type": "code",
   "execution_count": 9,
   "id": "e52c09ab",
   "metadata": {},
   "outputs": [
    {
     "name": "stdout",
     "output_type": "stream",
     "text": [
      "CPU times: user 18.2 s, sys: 0 ns, total: 18.2 s\n",
      "Wall time: 18.2 s\n"
     ]
    }
   ],
   "source": [
    "%%time\n",
    "import warnings; warnings.simplefilter('ignore')\n",
    "dfs = {}\n",
    "for key, data in data_files.items():\n",
    "    df = read_csv_datetime(data)\n",
    "    df = append_cardinality_df(df)\n",
    "    df = filter_fill_time(df, 2007, 2018)\n",
    "    dfs[key] = df"
   ]
  },
  {
   "cell_type": "markdown",
   "id": "74a406c4",
   "metadata": {},
   "source": [
    "<details><summary><strong>RuntimeWarning?</strong> </summary>\n",
    "    <div style=\"width:500px\"><ul>\n",
    "        <li><a href=\"https://github.com/AdRoll/python-hll\">python-hll library</a> is in a very early stage of development</li>  \n",
    "        <li>it is not fully compatible with the <a href=\"https://github.com/citusdata/postgresql-hll\">citus hll implementation</a> in postgres</li> \n",
    "        <li>The shown <a href=\"https://tech.nextroll.com/blog/dev/2019/10/01/hll-in-python.html\">RuntimeWarning (Overflow)</a> is one of the issues that need to be resolved in the future</li>\n",
    "        <li>If you run this notebook locally, it is recommended to use <a href=\"https://gitlab.vgiscience.de/lbsn/databases/pg-hll-empty\">pg-hll-empty</a> for\n",
    "        any hll calculations, as is shown (e.g.) in the original <a href=\"https://gitlab.vgiscience.de/ad/yfcc_gridagg\">YFCC100M notebooks</a>.</li>\n",
    "        <li>There is no significant negative impact on accuracy for this application case.</li>\n",
    "        </ul>\n",
    "</div>\n",
    "</details>"
   ]
  },
  {
   "cell_type": "code",
   "execution_count": 10,
   "id": "cdf006ae",
   "metadata": {},
   "outputs": [
    {
     "data": {
      "text/html": [
       "<div>\n",
       "<style scoped>\n",
       "    .dataframe tbody tr th:only-of-type {\n",
       "        vertical-align: middle;\n",
       "    }\n",
       "\n",
       "    .dataframe tbody tr th {\n",
       "        vertical-align: top;\n",
       "    }\n",
       "\n",
       "    .dataframe thead th {\n",
       "        text-align: right;\n",
       "    }\n",
       "</style>\n",
       "<table border=\"1\" class=\"dataframe\">\n",
       "  <thead>\n",
       "    <tr style=\"text-align: right;\">\n",
       "      <th></th>\n",
       "      <th>postcount_est</th>\n",
       "    </tr>\n",
       "    <tr>\n",
       "      <th>datetime</th>\n",
       "      <th></th>\n",
       "    </tr>\n",
       "  </thead>\n",
       "  <tbody>\n",
       "    <tr>\n",
       "      <th>2007-01-31</th>\n",
       "      <td>2787</td>\n",
       "    </tr>\n",
       "    <tr>\n",
       "      <th>2007-02-28</th>\n",
       "      <td>2300</td>\n",
       "    </tr>\n",
       "    <tr>\n",
       "      <th>2007-03-31</th>\n",
       "      <td>3386</td>\n",
       "    </tr>\n",
       "    <tr>\n",
       "      <th>2007-04-30</th>\n",
       "      <td>2630</td>\n",
       "    </tr>\n",
       "    <tr>\n",
       "      <th>2007-05-31</th>\n",
       "      <td>2407</td>\n",
       "    </tr>\n",
       "  </tbody>\n",
       "</table>\n",
       "</div>"
      ],
      "text/plain": [
       "            postcount_est\n",
       "datetime                 \n",
       "2007-01-31           2787\n",
       "2007-02-28           2300\n",
       "2007-03-31           3386\n",
       "2007-04-30           2630\n",
       "2007-05-31           2407"
      ]
     },
     "execution_count": 10,
     "metadata": {},
     "output_type": "execute_result"
    }
   ],
   "source": [
    "dfs[\"SUNRISE_FLICKR\"].head(5)"
   ]
  },
  {
   "cell_type": "markdown",
   "id": "10f9083b",
   "metadata": {},
   "source": [
    "# Visualize Cardinality\n",
    "\n",
    "Define plot function."
   ]
  },
  {
   "cell_type": "code",
   "execution_count": 11,
   "id": "b750238a",
   "metadata": {},
   "outputs": [],
   "source": [
    "import matplotlib.pyplot as plt\n",
    "import matplotlib.ticker as mticker\n",
    "import seaborn as sns\n",
    "from matplotlib.axes import Axes \n",
    "from matplotlib import cm\n",
    "from typing import Tuple\n",
    "\n",
    "def bar_plot_time(\n",
    "        df: pd.DataFrame, ax: Axes, color: str, label: str,\n",
    "        val_col: str = \"postcount_est\") -> Axes:\n",
    "    \"\"\"Matplotlib Barplot with time axis formatting\"\"\"\n",
    "    ax = df.set_index(\n",
    "        df.index.map(lambda s: s.strftime('%Y'))).plot.bar(\n",
    "            ax=ax, y=\"postcount_est\", color=color, width=1.0,\n",
    "            label=label, edgecolor=\"white\", linewidth=0.5, alpha=0.8)\n",
    "    return ax\n",
    "\n",
    "def plot_time(dfs: Tuple[pd.DataFrame, pd.DataFrame], title):\n",
    "    \"\"\"Create dataframe(s) time plot\"\"\"\n",
    "    fig, ax = plt.subplots()\n",
    "    fig.set_size_inches(15.7, 4.27)\n",
    "    # get color\n",
    "    colors = sns.color_palette(\"vlag\", as_cmap=True, n_colors=2)\n",
    "    # sunset\n",
    "    ax = bar_plot_time(\n",
    "        df=dfs[0], ax=ax, color=colors([1.0]), label=\"Sunset\")\n",
    "    # sunrise\n",
    "    ax = bar_plot_time(\n",
    "        df=dfs[1], ax=ax, color=colors([0.0]), label=\"Sunrise\")\n",
    "    # x axis ticker formatting\n",
    "    tick_loc = mticker.MultipleLocator(12)\n",
    "    ax.xaxis.set_major_locator(tick_loc)\n",
    "    ax.tick_params(axis='x', rotation=45)\n",
    "    ax.ticklabel_format(axis='y', style='plain')\n",
    "    ax.set(xlabel=\"Month\", ylabel=\"Post Count (estimate)\")\n",
    "    ax.spines[\"left\"].set_linewidth(0.25)\n",
    "    ax.spines[\"bottom\"].set_linewidth(0.25)\n",
    "    ax.spines[\"top\"].set_linewidth(0)\n",
    "    ax.spines[\"right\"].set_linewidth(0)\n",
    "    ax.yaxis.set_tick_params(width=0.5)\n",
    "    # add legend\n",
    "    h, l = ax.get_legend_handles_labels()\n",
    "    ax.legend(h, l, frameon=False, loc='center left', bbox_to_anchor=(1, 0.5))\n",
    "    ax.set_title(title)"
   ]
  },
  {
   "cell_type": "markdown",
   "id": "67cd54c7",
   "metadata": {},
   "source": [
    "Plot sunset and sunrise for both Instagram and Flickr collected data."
   ]
  },
  {
   "cell_type": "code",
   "execution_count": 12,
   "id": "fa126a25",
   "metadata": {},
   "outputs": [
    {
     "data": {
      "image/png": "iVBORw0KGgoAAAANSUhEUgAABAoAAAE0CAYAAACl7NFWAAAAOXRFWHRTb2Z0d2FyZQBNYXRwbG90bGliIHZlcnNpb24zLjQuMSwgaHR0cHM6Ly9tYXRwbG90bGliLm9yZy/Z1A+gAAAACXBIWXMAAAsTAAALEwEAmpwYAAA1MUlEQVR4nO3dd5xkVZ3//9dbBiUHUZCkgwIiIgYUwbBiWMGIv10DRgyrrvpVdI24AcyirAqYXVGMwLq6YmARUQwroLIkEZGRIMgIAkOGkYHP7497uiiaDtU10109M6/n41GPqTr3nnM//ZnqcD917rmpKiRJkiRJkgDuMuoAJEmSJEnS/GGhQJIkSZIk9VgokCRJkiRJPRYKJEmSJElSj4UCSZIkSZLUY6FAkiRJkiT1WCiQJEkTSlJJth1xDPdOcn2SNUYZx4qS5LFJzh11HJIkTcVCgSRpQkkuTPKk5RzjpUl+vqJiWt3NhxP3uVZVf6yq9arq1lHHMozx/2dV9bOquv8oY5IkaToWCiRJK60kC0Ydg2bPXP3/+j6SJOmOLBRIkqY1NjMgycFJliS5IMlTxm0/P8l1bdsLkzwA+DSwe5s6fnXb92lJTktybZKLkxw47lgvSXJRkiuT/Gv/zIYkByb5RpKvJLkWeGmSXZOclOTqJIuTfDzJXfvGqySvTXJei+89Se7X+lyb5Oj+/cfFsm2SnyS5JskVSY5q7QvbuAv69j0xyT8Mm6++bS9Pck7rd1yS+7T2n7Zdzmj5fN4E8d4vyY9a7q5I8tUkG/VtvzDJW5Kc2b6mo5Ks1bf9rS2HlyZ5+aRviCm+hvZ/9JW+/e6Qq5an9yT539b3B0nuMW7fVyT5I/CjCfrPOHcTxH6n40zXP8kh7f16bZJTkzy2b9saSd6Z5A8trlOTbD3R/1mSPZJc0tf3AS0nVyc5O8kz+7Z9McknknyvjXtKkvu1bUny0SSXt//LM5PsNNX/mSRJg7JQIEka1COBc4F7AB8CPt9OVtYFDgWeUlXrA48CTq+qc4B/BE5qU8c3auPcALwE2Ah4GvCaJM8CSLIj8EnghcDmwIbAluPi2Bv4Ruv/VeBW4E0trt2BJwKvHddnL2AXYDfgbcBn2zG2BnYCnj/J1/we4AfAxsBWwGHTJanPjPLVvv5nAe8E/g64J/Az4OsAVfU3bdwHt3weNcExA3wA2AJ4QPv6Dhy3z3Pp8rENsDPw0nbsvYC3AH8LbAdMetnJVF/DgF4AvAzYFLhrO26/x7X49xz0uFPlbgq94wzQ/1fAQ4C7A18D/rOvyPJPdO+hpwIbAC8Hbpzu/yzJmsB36N5jmwKvB76apP/ShOcD76J7Dy4C3tfanwz8DbA93ffC84Arp/l6JUkaiIUCSdKgLqqqz7VrxY+gO5HfrG27DdgpydpVtbiqzp5skKo6sarOqqrbqupMupOxx7XNzwa+U1U/r6q/Av8G1LghTqqq/279b6qqU6vq5KpaVlUXAp/pG2/MQVV1bYvrN8APqur8qroGOBZ46CTh3gLcB9iiqm6uqpmstzBMvl4NfKCqzqmqZcD7gYdM9sn4eFW1qKqOr6qlVfUX4CPcOReHVtWlVXUV3UnqQ1r7c4EvVNVvquoG7lxgGG/g//MJfKGqfl9VNwFH98Uw5sCquqFtH/S4w+Su/zhT9q+qr1TVle199u/A3YCxE/p/AP6lqs6tzhlVNchJ+27AesAHq+qvVfUj4LvcsXD1zar6ZYvpq325ugVYH9gBSIt78QDHlCRpWhYKJEmD+vPYk6q6sT1dr51UPo9u9sDiNk16h8kGSfLIJD9O8pck17R+92ibtwAuHnec8SdcF/e/SLJ9ku8m+XO6yxHe3zfemMv6nt80wev1Jgn3bXSf0v+yTQufcjr+OMPk6z7AIW0a+tXAVe3442dVTCjJpkmOTPKnlouvcOdc/Lnv+Y3c/rXfIffARZMdZ6b/5xOYLIYxFzOBWchd/3Gm7J/kze2yhGva9g25PbdbA3+Y4jiT2QK4uKpu62u7aFzME+aqFRU+DnwCuCzJZ5NsMEQMkiTdiYUCSdJyq6rjqupv6T41/x3wubFNE+z+NeAYYOuq2pBuHYO0bYvppvgDkGRtYJPxhxv3+lPtmNtV1QZ008fDClBVf66qV1bVFnSfOH8y3Qr2N7Rd1unb/V4zGHeyfF0MvLqqNup7rF1Vvxhw6A/Q5WfnlosXMXguFtOd8I6595Bfww0MmZf+4Yc47jC56z/OpP3begRvp5t1sXG7jOYabs/txcD9hvg6LwW2TtL/99i9gT8N0rmqDq2qXYAH0l2C8NYhYpAk6U4sFEiSlkuSzZI8s10/vhS4nm7dAOg+ud8qd1wscH3gqqq6OcmudNerj/kG8Iwkj2p93sX0J7rrA9cC17dPl1+z/F9VJ8lzkowVLpbQnVje2qb1/wl4UVvI7uUMeKI4Tb4+Deyf5IFt3w2TPKev+2XAfacYfv023tVJtmRmJ45H0y0OuWOSdYADhvwaTgf+Jsm9k2wI7D+DGKa0nLmbzlT91weWAX8BFiT5N7q1CMb8B/CeJNu1dSh2TjJW4Jrq/+wUusLK25KsmWQP4BnAkdMFm+QRbXbOmm2Mm7k9F5IkLRcLBZKk5XUX4M10n45eRXdN/Nhigj8Czgb+nOSK1vZa4N1JrqNbg+DosYHa9eavpztRWgxcB1xOd1I4mbfQFRuuo/t0eaJF/ob1COCUJNfTzYLYr6ouaNteSXcifiXdJ7qDfuo/ab6q6lvAQcCR7dKB3wBP6et7IHBEmx7/3AnGfhfwMLpPu78HfHPAmKiqY4GP0f2fLWr/DvM1HE/3f3AmcCrdNfcryvLkbkrT9D+Obi2L39NdGnAzd7xs4SN07+Mf0BWtPg+s3bYdyCT/Z20djme241xBt5DnS6rqdwOEvAHd+31Ji+lK4OBBv15JkqaSqkln90mSNFJJ1gOuprus4IJpdpckSdIK4IwCSdK8kuQZSdZp08sPBs4CLhxtVJIkSasPCwWSpPlmb7qp5ZcC2wH7lNPfJEmS5oyXHkiSJEmSpB5nFEiSJEmSpB4LBdNIsiDJglHHIUmSJEnSXPAEeHpbXXDBBa60LUmSJEnzU0YdwKrGGQWSJEmSJKnHQoEkSZIkSeqxUCBJkiRJknosFEiSJEmSpB4LBZIkSZIkqcdCgSRJkiRJ6rFQIEmSJEmSeiwUSJIkSZKkHgsFkiRJkiSpx0KBJEmSJEnqWTDqACRJkiRJ89P1ixdz458vu1P7OvfajPU233wEEWkuWCiQJEmSJE3oxj9fxhmHHHan9gfv93oLBaswLz2QJEmSJEk9FgokSZIkSVKPhQJJkiRJktRjoUCSJEmSJPVYKJAkSZIkST0WCiRJkiRJUo+FAkmSJEmS1GOhQJIkSZIk9VgokCRJkiRJPRYKJEmSJElSj4UCSZIkSZLUY6FAkiRJkiT1WCiQJEmSJEk9FgokSZIkSVKPhQJJkiRJktRjoUCSJEmSJPVYKJAkSZIkST0WCiRJkiRJUo+FAkmSJEmS1GOhQJIkSZIk9VgokCRJkiRJPRYKJEmSJElSj4UCSZIkSZLUM+uFgiRrJDktyXfb67snOT7Jee3fjfv23T/JoiTnJtmzr32XJGe1bYcmSWu/W5KjWvspSRb29dm3HeO8JPv2tW/T9j2v9b3rbOdAkiRJkqSVxVzMKNgPOKfv9TuAE6pqO+CE9pokOwL7AA8E9gI+mWSN1udTwKuA7dpjr9b+CmBJVW0LfBQ4qI11d+AA4JHArsABfQWJg4CPtuMvaWNIkiRJkiRmuVCQZCvgacB/9DXvDRzRnh8BPKuv/ciqWlpVFwCLgF2TbA5sUFUnVVUBXxrXZ2ysbwBPbLMN9gSOr6qrqmoJcDywV9v2hLbv+ONLkiRJkrTaWzDL438MeBuwfl/bZlW1GKCqFifZtLVvCZzct98lre2W9nx8+1ifi9tYy5JcA2zS3z6uzybA1VW1bIKx7iDJHsAewEYnn3wyCxcuHODLlSRJkiRp5TZrMwqSPB24vKpOHbTLBG01RfswfaYa646NVSdW1YHAx3bbbbeJdpEkSZIkaZUzm5cePBp4ZpILgSOBJyT5CnBZu5yA9u/lbf9LgK37+m8FXNrat5qg/Q59kiwANgSummKsK4CN2r7jx5IkSZIkabU3a4WCqtq/qraqqoV0ixT+qKpeBBwDjN2FYF/g2+35McA+7U4G29AtWvjLdpnCdUl2a2sMvGRcn7Gxnt2OUcBxwJOTbNwWMXwycFzb9uO27/jjS5IkSZK02pvtNQom8kHg6CSvAP4IPAegqs5OcjTwW2AZ8LqqurX1eQ3wRWBt4Nj2APg88OUki+hmEuzTxroqyXuAX7X93l1VV7XnbweOTPJe4LQ2hiRJkiRJYo4KBVV1InBie34l8MRJ9nsf8L4J2n8N7DRB+820QsME2w4HDp+g/Xy6WyZKkiRJkqRxZvX2iJIkSZIkaeVioUCSJEmSJPVYKJAkSZIkST0WCiRJkiRJUo+FAkmSJEmS1GOhQJIkSZIk9VgokCRJkiRJPRYKJEmSJElSj4UCSZIkSZLUY6FAkiRJkiT1WCiQJEmSJEk9FgokSZIkSVKPhQJJkiRJktRjoUCSJEmSJPVYKJAkSZIkST0WCiRJkiRJUs+CUQcgSZIkSVp1XL94MTf++bIJt61zr81Yb/PN5zgizZSFAkmSJEnSCnPjny/jjEMOm3Dbg/d7vYWClcBAhYIkdwEeDGwB3AScXVUTl4gkSZIkSdJKa8pCQZL7AW8HngScB/wFWAvYPsmNwGeAI6rqttkOVJIkSZIkzb7pZhS8F/gU8Oqqqv4NSTYFXgC8GDhidsKTJEmSJElzacpCQVU9f4ptlwMfW9EBSZIkSZKk0Rno9ohJ1knyr0k+115vl+TpsxuaJEmSJEmaawMVCoAvAEuB3dvrS+guS5AkSZIkSauQQQsF96uqDwG3AFTVTUBmLSpJkiRJkjQSA90eEfhrkrWBgt7dEJbOWlSSJEmSpFVPFZefdvqdmte512ast/nmcx+PJjRooeBA4H+ArZN8FXg08LLZCkqSJEmStOpZuuRqfvflr9yp/cH7vd5CwTwyUKGgqn6Q5FRgN7pLDvarqitmNTJJkiRJkjTnBr3rwQlVdWVVfa+qvltVVyQ5YbaDkyRJkiRJc2vKGQVJ1gLWAe6RZGNuX8BwA2CLWY5NkiRJkiTNsekuPXg18Ea6osCp3F4ouBb4xOyFJUmSJEmSRmHKQkFVHQIckuT1VXXYHMUkSZIkSZJGZNDFDA9LshOwI7BWX/uXZiswSZIkSZI09wYqFCQ5ANiDrlDwfeApwM8BCwWSJEmSJK1CBrrrAfBs4InAn6vqZcCDgbvNWlSSJEmSJGkkBi0U3FRVtwHLkmwAXA7cd/bCkiRJkiRJozDQpQfAr5NsBHyO7u4H1wO/nK2gJEmSJEnSaAy6mOFr29NPJ/kfYIOqOnP2wpIkSZIkSaMw6IwCkuwMLBzrk2TbqvrmLMUlSZIkSZJGYKA1CpIcDhwO/D3wjPZ4+jR91kryyyRnJDk7ybta+92THJ/kvPbvxn199k+yKMm5Sfbsa98lyVlt26FJ0trvluSo1n5KkoV9ffZtxzgvyb597du0fc9rfe86SA4kSZIkSVodDLqY4W5V9fCq2reqXtYeL5+mz1LgCVX1YOAhwF5JdgPeAZxQVdsBJ7TXJNkR2Ad4ILAX8Mkka7SxPgW8CtiuPfZq7a8AllTVtsBHgYPaWHcHDgAeCewKHNBXkDgI+Gg7/pI2hiRJkiRJYvBCwUntRH5g1bm+vVyzPQrYGziitR8BPKs93xs4sqqWVtUFwCJg1ySb062JcFJVFfClcX3GxvoG8MQ222BP4PiquqqqlgDH0xUqAjyh7Tv++JIkSZIkrfYGXaPgCLpiwZ/pZgqErhaw81Sd2oyAU4FtgU9U1SlJNquqxXQDLE6yadt9S+Dkvu6XtLZb2vPx7WN9Lm5jLUtyDbBJf/u4PpsAV1fVsgnGGh/7HsAewEYnn3wyCxcunOpLlSRJkiRplTBooeBw4MXAWcBtgw5eVbcCD2m3VvxWkp2m2D0TDTFF+zB9phrrjo1VJwInJlm422677TfRPpIkSZIkrWoGvfTgj1V1TFVdUFUXjT0GPUhVXQ2cSLe2wGXtcgLav5e33S4Btu7rthVwaWvfaoL2O/RJsgDYELhqirGuADZq+44fS5IkSZKk1d6gMwp+l+RrwHfoLj0AYKrbIya5J3BLVV2dZG3gSXQLCR4D7At8sP377dblGOBrST4CbEG3aOEvq+rWJNe1hRBPAV4CHNbXZ1/gJODZwI+qqpIcB7y/bwHDJwP7t20/bvseOe74kiRJkqRBVHH5aadPuGnZTTfNbSxa4QYtFKxNVyB4cl9bAZMWCoDNgSPaOgV3AY6uqu8mOQk4OskrgD8CzwGoqrOTHA38FlgGvK5dugDwGuCLLY5j2wPg88CXkyyim0mwTxvrqiTvAX7V9nt3VV3Vnr8dODLJe4HT2hiSJEmSpAEtXXI1v/vyVybctsOLXzTzAacoPKxzr81Yb/PNZz6mhjZQoaCqXjbTgavqTOChE7RfCTxxkj7vA943QfuvgTutb1BVN9MKDRNsO5xubYXx7efT3TJRkiRJkjQPTFV4ePB+r7dQMMemLBQkeVtVfSjJYUyw6F9VvWHWIpMkSZIkSXNuuhkF57R/fz3bgUiSJEmSpNGbslBQVd9pT2+sqv/s35Zkwin/kiRJkiRp5TXo7RH3H7BNkiRJkiStxKZbo+ApwFOBLZMc2rdpA7o7E0iSJEmSpFXIdGsUXEq3PsEzgVP72q8D3jRbQUmSJEmSpNGYbo2CM4Azknytqm4BSLIxsHVVLZmLACVJkiRJ0twZdI2C45NskOTuwBnAF5J8ZBbjkiRJkiRJIzBooWDDqroW+DvgC1W1C/Ck2QtLkiRJkiSNwqCFggVJNgeeC3x3FuORJEmSJEkjNGih4N3AccAfqupXSe4LnDd7YUmSJEmSpFGY7q4HAFTVfwL/2ff6fODvZysoSZIkSZJWlMv/77QDbrh08bYrarx1t9h80aYPe+i7ptsvyT8DLwBuBW4DXl1Vp6yoOCY55kuBH1TVpcOOMVChIMn2wKeAzapqpyQ7A8+sqvcOe2BJkiRJkubCDZcu3vZX733/A1bUeI/4l3fCwx465T5JdgeeDjysqpYmuQdw1xUVwxReCvwGGLpQMOilB58D9gduAaiqM4F9hj2oJEmSJEmruM2BK6pqKUBVXVFVlya5sBUNSPLwJCe25wcmOTzJiUnOT/KG1r5uku8lOSPJb5I8r7XvkuQnSU5NclySzZM8G3g48NUkpydZe5jABy0UrFNVvxzXtmyYA0qSJEmStBr4AbB1kt8n+WSSxw3QZwdgT2BX4IAkawJ7AZdW1YOraifgf1r7YcCz210JDwfeV1XfAH4NvLCqHlJVNw0T+ECXHgBXJLkfUACtSrF4mANKkiRJkrSqq6rrk+wCPBZ4PHBUkndM0+17bQbC0iSXA5sBZwEHJzkI+G5V/SzJTsBOwPFJANZgBZ6jD1ooeB3wWWCHJH8CLgBeuKKCkCRJkiRpVVNVtwInAicmOQvYl252/tjs/rXGdVna9/xWYEFV/b4VHJ4KfCDJD4BvAWdX1e6zEfdAlx5U1flV9STgnsAOVfWYqrpoNgKSJEmSJGlll+T+Sbbra3oIcBFwIbBLa5v2boJJtgBurKqvAAcDDwPOBe7ZFkwkyZpJHti6XAesvzyxTzmjIMmLgK9V1W0AVXXDuO33Azavqp8vTxCSJEmSJM2WdbfYfNEj/uWdK3S8AXZbDzgsyUZ0swgWAa8CHgB8Psk7gUFulfgg4MNJbqO7wcBrquqvbUmAQ5NsSHdu/zHgbOCLwKeT3ATsPsw6BdNderAJcFqSU4FTgb/QTY3YFngccAUw3TUWkiRJkiSNzKYPe+i7prud4YpWVacCj5pg08+A7SfY/8Bxr3dqTy8Ejptg/9OBv5mg/b+A/5ppvP2mLBRU1SFJPg48AXg0sDNwE3AO8OKq+uPyHFySJEmSJM0v0y5m2BZfOL49JEmSJEnSKmygxQwlSZIkSdLqwUKBJEmSJEnqGahQkGSbQdokSZIkSdLKbdAZBROtmPiNFRmIJEmSJEkavSkXM0yyA/BAYMMkf9e3aQO62yRKkiRJkjSvnfL7JQdccuXN266o8bbaZK1Fj9x+43dNt1+SfwZeANwK3Aa8uqpOWd7jJ/k+8IKqunp5x5rIdHc9uD/wdGAj4Bl97dcBr5yNgCRJkiRJWpEuufLmbd/+5XMesKLGO+jFD+CR0+yTZHe68+mHVdXSJPcA7ro8x00SIFX11OUZZzpTFgqq6tvAt5PsXlUnzWYgkiRJkiStQjYHrqiqpQBVdQVAkguBh1fVFUkeDhxcVXskORC4N3Df9u/HqurQJAuBY4EfA7sDz0ryE+DhwE3A0cBWwBrAe6rqqCS7AB8B1gOuAF5aVYsHDXy6GQVjFiV5J7Cwv09VvXzQA0mSJEmStBr5AfBvSX4P/BA4qqp+Mk2fHYDHA+sD5yb5VGu/P/CyqnotQDexAIC9gEur6mmtfcMkawKHAXtX1V+SPA94HzDw+fughYJvAz+j++JuHXRwSZIkSZJWR1V1fftk/7F0J/9HJXnHNN2+12YgLE1yObBZa7+oqk6eYP+zgIOTHAR8t6p+lmQnYCfg+FZQWAMYeDYBDF4oWKeq3j6TgSVJkiRJWp1V1a3AicCJSc4C9gWWcfsdCMffJGBp3/Nbuf2c/YZJxv99K0Y8FfhAkh8A3wLOrqrdh4170NsjfjfJrC6WIEmSJEnSqiLJ/ZNs19f0EOAi4EJgl9b298t5jC2AG6vqK8DBwMOAc4F7tsUUSbJmkgfOZNxBZxTsB7wzyVLgFiBAVdUGMzmYJEmSJElzbatN1lp00ItX2E0P2GqTtRYNsNt6wGFJNqKbRbAIeBXwAODzbR3A5b1V4oOADye5je5c/TVV9dckzwYOTbIh3Xn/x4CzBx10oEJBVa0/83glSZIkSRq9R26/8bumu53hilZVpwKPmmDTz4DtJ9j/wHGvd+p7udO4bQvb0+PaY/xYpwN/M5N4+w1UKEgy4QGq6qfDHliSJEmSJM0/g1568Na+52sBuwKnAk9Y4RFJkiRJkqSRGfTSg2f0v06yNfChWYlIkiRJkiSNzKB3PRjvEsZdIyFJkiRJklZ+AxUKkhyW5ND2+Djd4gtnTNNn6yQ/TnJOkrOT7Nfa757k+CTntX837uuzf5JFSc5Nsmdf+y5JzmrbDk2S1n63JEe19lOSLOzrs287xnlJ9u1r36bte17re9cBcyVJkiRJ0ipv0BkFv6Zbk+BU4CTg7VX1omn6LAPeXFUPAHYDXpdkR+AdwAlVtR1wQntN27YP8EBgL+CTSdZoY32K7jYS27XHXq39FcCSqtoW+ChwUBvr7sABwCPp1lM4oK8gcRDw0Xb8JW0MSZIkSZLEgIWCqjoC+DpdoeAM4JcD9FlcVf/Xnl8HnANsCewNHNF2OwJ4Vnu+N3BkVS2tqgvo7jG5a5LNgQ2q6qSqKuBL4/qMjfUN4IlttsGewPFVdVVVLQGOB/Zq257Q9h1/fEmSJEmSVnuD3h5xD7qT6guBAFsn2XfQ2yO2SwIeCpwCbFZVi6ErJiTZtO22JXByX7dLWtst7fn49rE+F7exliW5Btikv31cn02Aq6tq2QRjSZIkSZK02hv09oj/Djy5qs4FSLI93QyDXabrmGQ94L+AN1bVtW15gQl3naCtpmgfps9UY90xmK44sgew0cknn8zChQsn2k2SJEmSpFXKoGsUrDlWJACoqt8Da07XKcmadEWCr1bVN1vzZe1yAtq/l7f2S4Ct+7pvBVza2reaoP0OfZIsADYErppirCuAjdq+48e6g6o6saoOBD622267TfelSpIkSZK0Shh4McMkn0+yR3v8B916BZNq6wF8Hjinqj7St+kYYOwuBPsC3+5r36fdyWAbukULf9kuU7guyW5tzJeM6zM21rOBH7V1DI4Dnpxk47aI4ZOB49q2H7d9xx9fkiRJkqTV3qCXHrwGeB3wBrrp+z+huxPBVB4NvBg4K8npre2dwAeBo5O8Avgj8ByAqjo7ydHAb+numPC6qrq17/hfBNYGjm0P6AoRX06yiG4mwT5trKuSvAf4Vdvv3VV1VXv+duDIJO8FTmtjSJIkSZIkpikUJLkncM+q+i3wkfYgyU7ABsBfJutbVT9n4jUBAJ44SZ/3Ae+boP3XwE4TtN9MKzRMsO1w4PAJ2s+nu2WiJEmSJEkaZ7pLDw4D7jlB+5bAISs+HEmSJEmSNErTFQoeVFU/Gd9YVccBO89OSJIkSZIkaVSmKxRMdWeDae96IEmSJEmSVi7TFQrOS/LU8Y1JngKcPzshSZIkSZKkUZnurgdvAr6b5LncfjvEhwO7A0+fzcAkSZIkSdLcm3JGQVX9HngQ3e0QF7bHT4Cd2zZJkiRJkrQKmW5GAVW1FPjCHMQiSZIkSZJGbLo1CiRJkiRJ0mrEQoEkSZIkSeoZqFCQZL9B2iRJkiRJ0spt0BkF+07Q9tIVGIckSZIkSZoHplzMMMnzgRcA2yQ5pm/TBsCVsxmYJEmSJEmae9Pd9eAXwGLgHsC/97VfB5w5W0FJkiRJkqTRmLJQUFUXARcleRJwU1XdlmR7YAfgrLkIUJIkSZIkzZ1B1yj4KbBWki2BE4CXAV+craAkSZIkSdJoDFooSFXdCPwdcFhV/X/AjrMXliRJkiRJGoWBCwVJdgdeCHyvtU23voEkSZIkSVrJDFooeCOwP/Ctqjo7yX2BH89aVJIkSZIkaSQGmhVQVT8BfpJk/STrVdX5wBtmNzRJkiRJkjTXBppRkORBSU4DfgP8NsmpSR44u6FJkiRJkqS5NuilB58B/qmq7lNV9wbeDHxu9sKSJEmSJEmjMGihYN2q6q1JUFUnAuvOSkSSJEmSJGlkBr1zwflJ/hX4cnv9IuCC2QlJkiRJkiSNyqAzCl4O3BP4ZnvcA3jZbAUlSZIkSZJGY8oZBUnWAv4R2BY4C3hzVd0yF4FJkiRJkqS5N92MgiOAh9MVCZ4CfHjWI5IkSZIkSSMz3RoFO1bVgwCSfB745eyHJEmSJEmSRmW6GQW9ywyqatksxyJJkiRJkkZsuhkFD05ybXseYO32OkBV1QazGp0kSZIkSZpTUxYKqmqNuQpEkiRJkiSN3qC3R5QkSZIkSasBCwWSJEmSJKnHQoEkSZIkSeqxUCBJkiRJknosFEiSJEmSpB4LBZIkSZIkqcdCgSRJkiRJ6rFQIEmSJEmSeiwUSJIkSZKknlkrFCQ5PMnlSX7T13b3JMcnOa/9u3Hftv2TLEpybpI9+9p3SXJW23ZokrT2uyU5qrWfkmRhX5992zHOS7JvX/s2bd/zWt+7ztbXL0mSJEnSymg2ZxR8EdhrXNs7gBOqajvghPaaJDsC+wAPbH0+mWSN1udTwKuA7dpjbMxXAEuqalvgo8BBbay7AwcAjwR2BQ7oK0gcBHy0HX9JG0OSJEmSJDULZmvgqvpp/6f8zd7AHu35EcCJwNtb+5FVtRS4IMkiYNckFwIbVNVJAEm+BDwLOLb1ObCN9Q3g4222wZ7A8VV1VetzPLBXkiOBJwAv6Dv+gXSFCEmSJEnSOEvW3JAbH//sO7Vfu8Fmk/a5doPNJuwzXT/NH7NWKJjEZlW1GKCqFifZtLVvCZzct98lre2W9nx8+1ifi9tYy5JcA2zS3z6uzybA1VW1bIKxJEmSJEnjXHZDccgvrr9T+7/dd/LJ6X+5+S4T9pmun+aPuS4UTCYTtNUU7cP0mWqsOweU7EE3+2Gjk08+mYULF062qyRJkiRJq4y5LudclmRzgPbv5a39EmDrvv22Ai5t7VtN0H6HPkkWABsCV00x1hXARm3f8WPdSVWdWFUHAh/bbbfdZvRFSpIkSZK0sprrQsExwNhdCPYFvt3Xvk+7k8E2dIsW/rJdpnBdkt3a+gMvGddnbKxnAz+qqgKOA56cZOO2iOGTgePath+3fccfX5IkSZIkMYuXHiT5Ot3U/XskuYTuTgQfBI5O8grgj8BzAKrq7CRHA78FlgGvq6pb21CvobuDwtp0ixge29o/D3y5LXx4Fd1dE6iqq5K8B/hV2+/dYwsb0i2ceGSS9wKntTEkSZIkSXNgwbrrcs0MF0fU3JvNux48f5JNT5xk//cB75ug/dfAThO030wrNEyw7XDg8Anaz6e7ZaIkSZIkaY4tuem2GS+OqLk3XxYzlCRJkiStpiabaQDdLRo3nXCLZouFAkmSJEnSSE020wDgwB2K+89xPKs753dIkiRJkqQeCwWSJEmSJKnHSw8kSZIkSTMy1ZoC66y51hxHoxXNQoEkSZIkaUamWlPgTdtmjqPRiualB5IkSZIkqcdCgSRJkiRJ6rFQIEmSJEmSeiwUSJIkSZKkHgsFkiRJkiSpx0KBJEmSJEnqsVAgSZIkSZJ6LBRIkiRJkqQeCwWSJEmSJKnHQoEkSZIkSeqxUCBJkiRJknosFEiSJEmSpB4LBZIkSZIkqcdCgSRJkiRJ6rFQIEmSJEmSeiwUSJIkSZKkHgsFkiRJkiSpx0KBJEmSJEnqsVAgSZIkSZJ6Fow6AEmSJEmSpnL5aaffqW2de23GeptvPvfBrAYsFEiSJEmS5q3b/vpXzvjUYXdqf/B+r7dQMEu89ECSJEmSJPVYKJAkSZIkST0WCiRJkiRJUo+FAkmSJEmS1GOhQJIkSZIk9VgokCRJkiRJPRYKJEmSJElSj4UCSZIkSZLUY6FAkiRJkiT1LBh1AJIkSZIkTWbBuutyzeOffaf2JWtuyKYjiGd1YKFAkiRJkjRvLbnpNg75xfV3aj9wh+L+I4hndeClB5IkSZIkqWe1LBQk2SvJuUkWJXnHqOORJEmSJGm+WO0KBUnWAD4BPAXYEXh+kh1HG5UkSZIkSfPDalcoAHYFFlXV+VX1V+BIYO8RxyRJkiRJ0rywOi5muCVwcd/rS4BHTrH/GpdccsnsRiRJkiRJI3LD5Zdz01+umHDbpTevzU3XXX6n9ssWXzxh+7Dbhumz+NJLuPDCu7DNNtssqKplE3bWUFJVo45hTiV5DrBnVf1De/1iYNeqev24/fYA9gDWAM4BfjFuqOcDX5/lcFdF5m145m545m545m445m145m545m545m445m145m54E+XuEgsFK9bqWCjYHTiwqvZsr/cHqKoPzHCcX1fVw2chxFWaeRueuRueuRueuRuOeRueuRueuRueuRuOeRueuRueuZsbq+MaBb8CtkuyTZK7AvsAx4w4JkmSJEmS5oXVbo2CqlqW5P8Bx9FdVnB4VZ094rAkSZIkSZoXVrtCAUBVfR/4/nIO89kVEctqyLwNz9wNz9wNz9wNx7wNz9wNz9wNz9wNx7wNz9wNz9zNgdVujQJJkiRJkjS51XGNAkmSJEmSNAkLBZIkSZIkqcdCwQqSZONRx6DVT5KMOoaVlbnTXPM9NzxzN7wka4w6Bq0+2h3FNATPJTTfWChYAZI8Afhkki1HHcvKJMmDk+yYZPtRx7KySbJVkg3p7tyhGUiydftlbO6G5InHzCTZIskGwJqjjmVl025lfA9gw1HHsrJJ8vAkW1TVrUn8e28Gkjw+yc6jjmNlk+RvgZe3v080A55LDM/zidnjL47llGRP4AvArsDWrc28TiPJ04EvA28H3pxkS/M2mCTPpMvdp4C3JNlrxCGtNJI8CzgaOBL41/Y+1ACSPDPJxwDaiYfFggG099jXgG8Cb0qyzYhDWmkkeRrwdeDTwBuT3MOZBYNJshD4DvDNJFtV1W3+jh1MkicD/wGs19fm+24arUjwRWBRVV0z4nBWKp5LDM/zidm1Wt4ecUVpJ2wHAnsCjwA+neQJVXXVSAOb55LcB3g/sC9wKXBQ27Q2cMOo4loZJLk38B7ghcAtwFOB/ZPcraq+PdLg5rn2qeR7gFfSvc8eBrwyyfpV9fWRBjfPJdkV+ASwXpJNq+oFY8WCqrp11PHNV0meCHwIeD7dJ+L7AjsCF4wyrpVBO1l7L/Aq4K/Au4C7lrdqGkhVXZjkm8C6wLeSPK+qzh91XPNdkscBhwKvrKpfJFkXWEr3wdpfRxrcPNWKKGsAzwPeUVU/THJ3YC1g7ar6w0gDnOc8lxie5xOzz0LB8tkNeHtV/S7JYuCxdCcfP0xyl6q6bbThzVvrA3+pqtPa9LTH0P1iviHJsZ60TWk94Iqq+g30rmd7HLBvkqur6icjjW5+uwU4Fzi9qm5O8kfgauClSZZU1f+MNLr5bWPgDVX1rSSnJfl6VT3fYsG0dgI+UVVnACTZEdgnybFAedI7pfsD76yqXyW5J/AA4ENJ/g84o6pOGG1481f7NO0uwG10n4zvBnwxySHALVV1zCjjm+ceDiwBTmqzf95Pd8nQeUl+6PvuztrPsWVJLgDOb8WV7wPnAVsl+VZVHTrSIOe3XfFcYljr4vnErHJqxnKoqndW1fHtl/K17fHqts1v7Em0k9w1kvwv3YnbZ4E3At8CntMqhJpAVf0WuCbJZ9sv42cAi4CfAgtHGdt816ZC3kA3RW3s9U/p/qDZBZxeOpmqOg74WXv5MGD7JEe1bbcm2Wxkwc1vnwCOgt57axGwVlXdVlWVZP2RRjePVdVhVXVskrXoTnYPBw6hK/j9fZIN/X69syRp769ldD/fdqqqg+lmsXwN2KTt599/E6iqfweOA74N/BfwE+AwYDHwzCTr+767o7730q3AB4E3AZ8BXgq8DXie6z1Mrqr+pZ1LBM8lZqT9TXyXJD/H84lZ4S+KGUryt0lel+QN7fXYL+UC/hnYMsnLRxvl/NOXtzcCVNUedFOF/hv4cFVdTPdHzbJRxThfjc8d8A66WRlHAPevqrcAvwGe5nXjd5Rku3Ensf8PuL7vWvslwK+BRydZz094bzc+d1V1RZs9UHSfgGyb5HNJng38c5K1RxbsPDIub7dW1RXQ+9TtYtpMviQvAl4TVwjv6c/d2MlYVd0MvLqqDqqqXwE/ArYAbvP79XZjuWsFqLG/7W4A7p3kkcCjgP8E/inJfTwBud0EP+sOBE4EvlRVn24z9X5EV4x3JlDT9567DaCqPkh3svYG4MyqurV9z56Df9vdwUQ/64B4LjG9Cb5fH093Sek38XxihbNQMANJHkNXkb8ZeG6Sw+hOMBYAVNVS4POAq272GZe35yT5ZJJHVdUi4Cbgk23XxwD3pvvESEyYu0OAjarq+cAL6K4JBNiK7o9CP+lokuwNnAD8W7q1HQCuBz4MbJTkW0k2ortmfB1ckb5noty1ouitSRa0PwB3oXv/fQb4XFXdNMKQ54XxeWsnbf3fk7cBS5P8I13B75iq8rpnJs3d2N8ol/Xten/AO0j0mSB3Y0WAH9Ll6zjgbVX1IuAr+LdfzyS/J6iq99PNCBpzf7pL/3zfMXnegNcApwKfSbJpkpfSzUK7bu6jnJ8m+z0xtuCo5xKTm+L79Ry6369j37OeT6wgsTA6uCT/BKxfVe9q0yH/he4Xx1FVdVLbZze6P5wfW1XXji7a+WOSvG1I94n4tXTXE63T2l5UVWeNLNh5Zorcfa2qTmonIa8EXge8uKrOHGG480a6a9W+CvwOuBzYDDi0qi5qOVsb+DhwV2AH4B+q6vQRhTuvTJK7Q6rqj+2PmWr77UG3SvPTq+rsEYU7b0yTt7sARVfQOw34A7BvVf1uVPHOJ4O859r37RuBF9Hl7jcjC3gemSZ3dwX+Hriw72+U3vfw6m4GP+veCLwY33fA1Hnr2+dgukUgHwG8yd8RnRm853anu9uL5xLNdO+7JNvRXZ62Hp5PrDAWCmYg3a1f3ky3qNfvk9wNOADYoKr+X99+61XV9aOKc76ZIm/rVtV+bZ8dgcvHpumqM8h7LslLgFOq6twRhjrvpFuI6kq6QsDedMWBw6rqgr597gYsqCpXx+0zSe4OraoL+/bZi+42WItGEuQ8NGDevkI3PfKMkQQ5T02Xu3RrsrwV+IYna3c01c+69gnlbX2XcvhHX58Bv2f/FfhvTzpuN0je2n5rtcuH1Azws26sOOq5xDgDfr/uQLfot+cTK4CFgmkk2ZqucrUmXXX0YOBM4PtVtbh9yvtT4JNV9cXWZ7Wv2A+Yt58Bn66qz48u0vlnBu+5T1fV4aOLdP5pU9EuY9zJf7prdPemu13TW+g+5VhUVVeOJNB5aAa52wX4fXmfbGBGeXs43fW7167uvx/GzCB3D6P7fr16FHHORwPm7q10uTvfn3W3m+HPunP9RLczw59153uidrsZ/qy7qKr+4rlEZwY/63YBzqtu7SmtIF6nNoUkTwOOpVvx9j+Ae9GtmP5YuoXjdmiV0u/QXRsDWLGfQd6OweuH7mCG7zkXaunTcvd9utx9Icn9x7ZV1Sl0q1gvBn5Od83uOqOIcz6aYe6Op5vWt9obJm+r+++HMTPM3Ql06xKIGeXuZ3TvO3/WNTN83/0Q2GgEYc47M8zbD+g+6RVDvefWattW+98VM/xZ9wO6hb61IlWVj3EPugXhtgbOAvaguw7mbXQrVt+brlr673S3zTmErtL1gFHHPeqHeTN38yh3bwYuBR44bt+P0d0mbKdRxz0fHubOvJm7ledh7sydeVt5HubO3K0Kj5EHMF8fwBp09+Pcktsv0XgT8Edgq/b6scA/ANuOOt758jBv5m4e5e4NwJ+A7dvrjYEzgIeOOt759DB35s3crTwPc2fuzNvK8zB35m5lf7hGwThJtqV7451Pd9u+U6vqQ33b30F3m5zXlrcD6zFvwzN3wxsgd2+ju/3ha6vqRhdWup25G455G565G565G565G455G565G565m18WjDqA+STJ04H3A0voprt8FTg0yRpV9YG225HAO+nuay/M2/Iwd8MbMHdHA/sDYwWWpXMe6Dxk7oZj3oZn7oZn7oZn7oZj3oZn7oZn7uYfCwVNkkfRrS7//Ko6LclngV2BRwEnJ1mD7oTtMXSrkm5E90ZerZm34Zm74c0wd7vQcldOoTJ3QzJvwzN3wzN3wzN3wzFvwzN3wzN385OXHjTtDbp93X6Lw3sCX6yqpyW5L/AvdJ/o7gq8rLyfLmDeloe5G565G565G455G565G565G565G455G565G565m58sFDStUrVuVV3bnm9Odwu6p1Z37/r70C2gsW55//Ae8zY8czc8czc8czcc8zY8czc8czc8czcc8zY8czc8czc/3WXUAcwXVXVrVV3bXga4GriqvTlfRHeN+Jq+Oe/IvA3P3A3P3A3P3A3HvA3P3A3P3A3P3A3HvA3P3A3P3M1PziiYQpIvAouBJwMvdZrLYMzb8Mzd8Mzd8MzdcMzb8Mzd8Mzd8MzdcMzb8Mzd8Mzd6FkomECSAGsC57R/n1hV5402qvnPvA3P3A3P3A3P3A3HvA3P3A3P3A3P3A3HvA3P3A3P3M0fFgqmkOSlwK+q6uxRx7IyMW/DM3fDM3fDM3fDMW/DM3fDM3fDM3fDMW/DM3fDM3ejZ6FgCklSJmjGzNvwzN3wzN3wzN1wzNvwzN3wzN3wzN1wzNvwzN3wzN3oWSiQJEmSJEk93vVAkiRJkiT1WCiQJEmSJEk9FgokSZIkSVKPhQJJklZCSSrJl/teL0jylyTfHXK8jZK8tu/1HsOOJUmSVm4WCiRJWjndAOyUZO32+m+BPy3HeBsBr51uJ0mStOqzUCBJ0srrWOBp7fnzga+PbUhy9yT/neTMJCcn2bm1H5jk8CQnJjk/yRtalw8C90tyepIPt7b1knwjye+SfDVJ5uoLkyRJo2OhQJKkldeRwD5J1gJ2Bk7p2/Yu4LSq2hl4J/Clvm07AHsCuwIHJFkTeAfwh6p6SFW9te33UOCNwI7AfYFHz+LXIkmS5gkLBZIkraSq6kxgId1sgu+P2/wY4Mttvx8BmyTZsG37XlUtraorgMuBzSY5xC+r6pKqug04vR1LkiSt4haMOgBJkrRcjgEOBvYANulrn+gygWr/Lu1ru5XJ/x4YdD9JkrQKcUaBJEkrt8OBd1fVWePafwq8ELo7GABXVNW1U4xzHbD+bAQoSZJWLn4yIEnSSqyqLgEOmWDTgcAXkpwJ3AjsO804Vyb53yS/oVsk8XsrOlZJkrRySFVNv5ckSZIkSVoteOmBJEmSJEnqsVAgSZIkSZJ6LBRIkiRJkqQeCwWSJEmSJKnHQoEkSZIkSeqxUCBJkiRJknosFEiSJEmSpB4LBZIkSZIkqef/B1gYxMuvo6vYAAAAAElFTkSuQmCC\n",
      "text/plain": [
       "<Figure size 1130.4x307.44 with 1 Axes>"
      ]
     },
     "metadata": {
      "needs_background": "light"
     },
     "output_type": "display_data"
    }
   ],
   "source": [
    "plot_time(\n",
    "    dfs = (dfs[\"SUNSET_INSTAGRAM\"], dfs[\"SUNRISE_INSTAGRAM\"]),\n",
    "    title='Instagram sunset and sunrise reactions')"
   ]
  },
  {
   "cell_type": "code",
   "execution_count": 13,
   "id": "d4371f83",
   "metadata": {},
   "outputs": [
    {
     "data": {
      "image/png": "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\n",
      "text/plain": [
       "<Figure size 1130.4x307.44 with 1 Axes>"
      ]
     },
     "metadata": {
      "needs_background": "light"
     },
     "output_type": "display_data"
    }
   ],
   "source": [
    "plot_time(\n",
    "    dfs = (dfs[\"SUNSET_FLICKR\"], dfs[\"SUNRISE_FLICKR\"]),\n",
    "    title='Flickr sunset and sunrise reactions')"
   ]
  },
  {
   "cell_type": "markdown",
   "id": "f6eab556",
   "metadata": {},
   "source": [
    "# Create notebook HTML"
   ]
  },
  {
   "cell_type": "code",
   "execution_count": 14,
   "id": "f0be3271",
   "metadata": {
    "tags": [
     "active-ipynb"
    ]
   },
   "outputs": [],
   "source": [
    "!jupyter nbconvert --to html_toc \\\n",
    "    --output-dir=../out/html ./07_time.ipynb \\\n",
    "    --template=../nbconvert.tpl \\\n",
    "    --ExtractOutputPreprocessor.enabled=False >&- 2>&- # create single output file"
   ]
  },
  {
   "cell_type": "markdown",
   "id": "7b430f46",
   "metadata": {},
   "source": [
    "Copy single HTML file to resource folder"
   ]
  },
  {
   "cell_type": "code",
   "execution_count": 2,
   "id": "5e529df3",
   "metadata": {},
   "outputs": [],
   "source": [
    "!cp ../out/html/07_time.html ../resources/html/"
   ]
  },
  {
   "cell_type": "code",
   "execution_count": null,
   "id": "0b2e5c10",
   "metadata": {},
   "outputs": [],
   "source": []
  }
 ],
 "metadata": {
  "kernelspec": {
   "display_name": "worker_env",
   "language": "python",
   "name": "worker_env"
  },
  "language_info": {
   "codemirror_mode": {
    "name": "ipython",
    "version": 3
   },
   "file_extension": ".py",
   "mimetype": "text/x-python",
   "name": "python",
   "nbconvert_exporter": "python",
   "pygments_lexer": "ipython3",
   "version": "3.9.2"
  }
 },
 "nbformat": 4,
 "nbformat_minor": 5
}
